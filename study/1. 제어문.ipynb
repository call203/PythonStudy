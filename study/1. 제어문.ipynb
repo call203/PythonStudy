{
 "cells": [
  {
   "cell_type": "code",
   "execution_count": 15,
   "metadata": {},
   "outputs": [],
   "source": [
    "x =3"
   ]
  },
  {
   "cell_type": "code",
   "execution_count": 5,
   "metadata": {},
   "outputs": [
    {
     "name": "stdout",
     "output_type": "stream",
     "text": [
      "X는 10입니다\n"
     ]
    }
   ],
   "source": [
    "if x== 10:\n",
    "    print(\"X는 10입니다\")"
   ]
  },
  {
   "cell_type": "code",
   "execution_count": 7,
   "metadata": {},
   "outputs": [],
   "source": [
    "if x != 10:\n",
    "    print(\"x는 10이 아닙니다.\")"
   ]
  },
  {
   "cell_type": "code",
   "execution_count": 8,
   "metadata": {},
   "outputs": [],
   "source": [
    "if x == 10:\n",
    "    pass"
   ]
  },
  {
   "cell_type": "code",
   "execution_count": 9,
   "metadata": {},
   "outputs": [
    {
     "name": "stdout",
     "output_type": "stream",
     "text": [
      "x는 3보다 크고 20보다 작습니다.\n"
     ]
    }
   ],
   "source": [
    "if x > 3 and x < 20:\n",
    "    print('x는 3보다 크고 20보다 작습니다.')"
   ]
  },
  {
   "cell_type": "code",
   "execution_count": 13,
   "metadata": {},
   "outputs": [
    {
     "name": "stdout",
     "output_type": "stream",
     "text": [
      "x는 3보다 작습니다.\n",
      "x는 10보다 크거나 같습니다.\n",
      "x는 20보다 작습니다.\n"
     ]
    }
   ],
   "source": [
    "if x>3:\n",
    "    print(\"x는 3보다 작습니다.\")\n",
    "    if x >=10:\n",
    "        print(\"x는 10보다 크거나 같습니다.\")\n",
    "    if x <20:\n",
    "        print(\"x는 20보다 작습니다.\")"
   ]
  },
  {
   "cell_type": "code",
   "execution_count": 17,
   "metadata": {},
   "outputs": [
    {
     "name": "stdout",
     "output_type": "stream",
     "text": [
      "x는 5보다 작거나 같습니다.\n"
     ]
    }
   ],
   "source": [
    "if x >5:\n",
    "    print(\"x는 5보다 큽니다.\")\n",
    "else:\n",
    "    print(\"x는 5보다 작거나 같습니다.\")"
   ]
  },
  {
   "cell_type": "code",
   "execution_count": null,
   "metadata": {},
   "outputs": [],
   "source": [
    "if x>5:\n",
    "    print(\"x는 5보다 큽니다.\")\n",
    "elif x<2:\n",
    "    print(\"x는 2보다 큽니다.\")\n",
    "elif x>0:\n",
    "    print(\"x는 0보다 큽니다.\")\n",
    "else:\n",
    "    print(\"x는 음수입니다.\")"
   ]
  },
  {
   "cell_type": "markdown",
   "metadata": {},
   "source": [
    "## 연습문제1."
   ]
  },
  {
   "cell_type": "code",
   "execution_count": 36,
   "metadata": {},
   "outputs": [
    {
     "name": "stdout",
     "output_type": "stream",
     "text": [
      "점수1:  66\n",
      "점수2:  66\n",
      "점수3:  66\n"
     ]
    }
   ],
   "source": [
    "sc1 = int(input(\"점수1:  \"))\n",
    "sc2 = int(input(\"점수2:  \"))\n",
    "sc3 = int(input(\"점수3:  \"))"
   ]
  },
  {
   "cell_type": "code",
   "execution_count": 37,
   "metadata": {},
   "outputs": [
    {
     "name": "stdout",
     "output_type": "stream",
     "text": [
      "합격\n"
     ]
    }
   ],
   "source": [
    "if(sc1<0 or sc1>100 or sc2<0 or sc2>100 or sc3<0 or sc3>100):\n",
    "    print(\"잘못된 점수가 입력되었습니다.\")\n",
    "else:\n",
    "    if(sc1 >65 and sc2 >65 and sc3 >65 ):\n",
    "        print(\"합격\")\n",
    "    else:\n",
    "        print(\"불합격\")"
   ]
  },
  {
   "cell_type": "code",
   "execution_count": null,
   "metadata": {},
   "outputs": [],
   "source": []
  }
 ],
 "metadata": {
  "kernelspec": {
   "display_name": "Python 3",
   "language": "python",
   "name": "python3"
  }
 },
 "nbformat": 4,
 "nbformat_minor": 4
}

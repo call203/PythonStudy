{
 "cells": [
  {
   "cell_type": "code",
   "execution_count": 15,
   "metadata": {},
   "outputs": [],
   "source": [
    "x =3"
   ]
  },
  {
   "cell_type": "code",
   "execution_count": 5,
   "metadata": {},
   "outputs": [
    {
     "name": "stdout",
     "output_type": "stream",
     "text": [
      "X는 10입니다\n"
     ]
    }
   ],
   "source": [
    "if x== 10:\n",
    "    print(\"X는 10입니다\")"
   ]
  },
  {
   "cell_type": "code",
   "execution_count": 7,
   "metadata": {},
   "outputs": [],
   "source": [
    "if x != 10:\n",
    "    print(\"x는 10이 아닙니다.\")"
   ]
  },
  {
   "cell_type": "code",
   "execution_count": 8,
   "metadata": {},
   "outputs": [],
   "source": [
    "if x == 10:\n",
    "    pass"
   ]
  },
  {
   "cell_type": "code",
   "execution_count": 9,
   "metadata": {},
   "outputs": [
    {
     "name": "stdout",
     "output_type": "stream",
     "text": [
      "x는 3보다 크고 20보다 작습니다.\n"
     ]
    }
   ],
   "source": [
    "if x > 3 and x < 20:\n",
    "    print('x는 3보다 크고 20보다 작습니다.')"
   ]
  },
  {
   "cell_type": "code",
   "execution_count": 13,
   "metadata": {},
   "outputs": [
    {
     "name": "stdout",
     "output_type": "stream",
     "text": [
      "x는 3보다 작습니다.\n",
      "x는 10보다 크거나 같습니다.\n",
      "x는 20보다 작습니다.\n"
     ]
    }
   ],
   "source": [
    "if x>3:\n",
    "    print(\"x는 3보다 작습니다.\")\n",
    "    if x >=10:\n",
    "        print(\"x는 10보다 크거나 같습니다.\")\n",
    "    if x <20:\n",
    "        print(\"x는 20보다 작습니다.\")"
   ]
  },
  {
   "cell_type": "code",
   "execution_count": 17,
   "metadata": {},
   "outputs": [
    {
     "name": "stdout",
     "output_type": "stream",
     "text": [
      "x는 5보다 작거나 같습니다.\n"
     ]
    }
   ],
   "source": [
    "if x >5:\n",
    "    print(\"x는 5보다 큽니다.\")\n",
    "else:\n",
    "    print(\"x는 5보다 작거나 같습니다.\")"
   ]
  },
  {
   "cell_type": "code",
   "execution_count": null,
   "metadata": {},
   "outputs": [],
   "source": [
    "if x>5:\n",
    "    print(\"x는 5보다 큽니다.\")\n",
    "elif x<2:\n",
    "    print(\"x는 2보다 큽니다.\")\n",
    "elif x>0:\n",
    "    print(\"x는 0보다 큽니다.\")\n",
    "else:\n",
    "    print(\"x는 음수입니다.\")"
   ]
  },
  {
   "cell_type": "markdown",
   "metadata": {},
   "source": [
    "## 연습문제1."
   ]
  },
  {
   "cell_type": "code",
   "execution_count": 39,
   "metadata": {},
   "outputs": [
    {
     "name": "stdout",
     "output_type": "stream",
     "text": [
      "점수1:  10\n",
      "점수2:  22\n",
      "점수3:  66\n"
     ]
    }
   ],
   "source": [
    "while(True):\n",
    "    \n",
    "    sc1 = int(input(\"점수1:  \"))\n",
    "    sc2 = int(input(\"점수2:  \"))\n",
    "    sc3 = int(input(\"점수3:  \"))\n",
    "    if(sc1<0 or sc1>100 or sc2<0 or sc2>100 or sc3<0 or sc3>100):\n",
    "         print(\"잘못된 점수가 입력되었습니다.\")\n",
    "    else: break               "
   ]
  },
  {
   "cell_type": "code",
   "execution_count": 37,
   "metadata": {},
   "outputs": [
    {
     "name": "stdout",
     "output_type": "stream",
     "text": [
      "합격\n"
     ]
    }
   ],
   "source": [
    "if(sc1<0 or sc1>100 or sc2<0 or sc2>100 or sc3<0 or sc3>100):\n",
    "    print(\"잘못된 점수가 입력되었습니다.\")\n",
    "else:\n",
    "    if(sc1 >65 and sc2 >65 and sc3 >65 ):\n",
    "        print(\"합격\")\n",
    "    else:\n",
    "        print(\"불합격\")"
   ]
  },
  {
   "cell_type": "code",
   "execution_count": 48,
   "metadata": {},
   "outputs": [
    {
     "name": "stdout",
     "output_type": "stream",
     "text": [
      "점수1:  55\n",
      "점수2:  99\n",
      "점수3:  99\n",
      "불합격\n"
     ]
    }
   ],
   "source": [
    "## 다른 답\n",
    "sc1 = int(input(\"점수1:  \"))\n",
    "sc2 = int(input(\"점수2:  \"))\n",
    "sc3 = int(input(\"점수3:  \"))\n",
    "\n",
    "sc1, sc2, sc3 = map(int,[sc1, sc2, sc3])\n",
    "if(sc1 not in range(101) or sc2 not in range(101) or sc3 not in range(101)):\n",
    "    print(\"잘못된 점수가 입력되었습니다.\")\n",
    "elif (sc1 >65 and sc2 >65 and sc3 >65 ):  \n",
    "    print(\"합격\")\n",
    "else:\n",
    "    print(\"불합격\")"
   ]
  },
  {
   "cell_type": "markdown",
   "metadata": {},
   "source": [
    "## 연습문제2."
   ]
  },
  {
   "cell_type": "code",
   "execution_count": 63,
   "metadata": {},
   "outputs": [
    {
     "name": "stdout",
     "output_type": "stream",
     "text": [
      "정수를 입력하시오. : 4\n",
      "입력하신 4 는(은) 짝수입니다.\n"
     ]
    }
   ],
   "source": [
    "try:\n",
    "    a = int(input(\"정수를 입력하시오. : \"))\n",
    "        \n",
    "    if(a % 2 == 0):\n",
    "         print(\"입력하신 {} 는(은) 짝수입니다.\".format(a))\n",
    "    else:\n",
    "        print(\"입력하신 {} 는(은) 홀수입니다.\".format(a))\n",
    "except:\n",
    "    print(\"입력하신 숫자가 정수가 아닙니다.\")\n"
   ]
  },
  {
   "cell_type": "markdown",
   "metadata": {},
   "source": [
    "# For"
   ]
  },
  {
   "cell_type": "code",
   "execution_count": 64,
   "metadata": {},
   "outputs": [
    {
     "name": "stdout",
     "output_type": "stream",
     "text": [
      "0\n",
      "1\n",
      "2\n",
      "3\n",
      "4\n",
      "5\n",
      "6\n",
      "7\n",
      "8\n",
      "9\n"
     ]
    }
   ],
   "source": [
    "for i in range(10):\n",
    "    print(i)"
   ]
  },
  {
   "cell_type": "code",
   "execution_count": 65,
   "metadata": {},
   "outputs": [
    {
     "name": "stdout",
     "output_type": "stream",
     "text": [
      "a\n",
      "b\n",
      "c\n"
     ]
    }
   ],
   "source": [
    "for i in ['a', 'b', 'c']:\n",
    "    print(i)"
   ]
  },
  {
   "cell_type": "code",
   "execution_count": 66,
   "metadata": {},
   "outputs": [],
   "source": [
    "profile ={\n",
    "    \"name\" : \"이김박\",\n",
    "    \"height\" : 160,\n",
    "    \"City\" : \"독도\"\n",
    "}"
   ]
  },
  {
   "cell_type": "code",
   "execution_count": 70,
   "metadata": {},
   "outputs": [
    {
     "name": "stdout",
     "output_type": "stream",
     "text": [
      "name\n",
      "height\n",
      "City\n"
     ]
    }
   ],
   "source": [
    "for i in profile:\n",
    "    print(i)"
   ]
  },
  {
   "cell_type": "code",
   "execution_count": 71,
   "metadata": {},
   "outputs": [
    {
     "name": "stdout",
     "output_type": "stream",
     "text": [
      "O\n",
      "r\n",
      "a\n",
      "n\n",
      "g\n",
      "e\n"
     ]
    }
   ],
   "source": [
    "for i in \"Orange\":\n",
    "    print(i)"
   ]
  },
  {
   "cell_type": "markdown",
   "metadata": {},
   "source": [
    "## 연습문제3."
   ]
  },
  {
   "cell_type": "code",
   "execution_count": 2,
   "metadata": {},
   "outputs": [
    {
     "name": "stdout",
     "output_type": "stream",
     "text": [
      "정수를 입력하세요 :  2\n",
      "안녕\n",
      "안녕\n"
     ]
    }
   ],
   "source": [
    "num1 = int(input(\"정수를 입력하세요 :  \"))\n",
    "\n",
    "for i in range(num1):\n",
    "    print(\"안녕\")\n",
    "   "
   ]
  },
  {
   "cell_type": "code",
   "execution_count": 20,
   "metadata": {},
   "outputs": [
    {
     "name": "stdout",
     "output_type": "stream",
     "text": [
      "정수를 입력하세요 :  3\n",
      "*\n",
      "**\n",
      "***\n"
     ]
    }
   ],
   "source": [
    "num2 = int(input(\"정수를 입력하세요 :  \"))\n",
    "\n",
    "# for i in range(num2):\n",
    "#     print(\" \",end=\"\\n\") \n",
    "#     for j in range(i+1):\n",
    "#         print(\"*\", end=\"\")\n",
    "\n",
    "# 다른 답\n",
    "for i in range(num2):\n",
    "    print(\"*\"*(i+1))"
   ]
  },
  {
   "cell_type": "code",
   "execution_count": 11,
   "metadata": {},
   "outputs": [
    {
     "name": "stdout",
     "output_type": "stream",
     "text": [
      "정수를 입력하세요 :  5\n",
      " \n",
      "* * * * *  \n",
      "* * * *  \n",
      "* * *  \n",
      "* *  \n",
      "* "
     ]
    }
   ],
   "source": [
    "num3 = int(input(\"정수를 입력하세요 :  \"))\n",
    "\n",
    "for i in range(num3,0,-1):\n",
    "    print(\" \",end=\"\\n\") \n",
    "    for j in range(i):\n",
    "        print(\"*\", end=\" \")\n",
    "        "
   ]
  },
  {
   "cell_type": "markdown",
   "metadata": {},
   "source": [
    "## for문 중첩"
   ]
  },
  {
   "cell_type": "code",
   "execution_count": 25,
   "metadata": {},
   "outputs": [
    {
     "name": "stdout",
     "output_type": "stream",
     "text": [
      "i :  0\n",
      "i * j :  0\n",
      "i * j :  0\n",
      "i * j :  0\n",
      "i * j :  0\n",
      "i * j :  0\n",
      "----------\n",
      "i :  1\n",
      "i * j :  0\n",
      "i * j :  1\n",
      "i * j :  2\n",
      "i * j :  3\n",
      "i * j :  4\n",
      "----------\n",
      "i :  2\n",
      "i * j :  0\n",
      "i * j :  2\n",
      "i * j :  4\n",
      "i * j :  6\n",
      "i * j :  8\n",
      "----------\n",
      "i :  3\n",
      "i * j :  0\n",
      "i * j :  3\n",
      "i * j :  6\n",
      "i * j :  9\n",
      "i * j :  12\n",
      "----------\n",
      "i :  4\n",
      "i * j :  0\n",
      "i * j :  4\n",
      "i * j :  8\n",
      "i * j :  12\n",
      "i * j :  16\n",
      "----------\n"
     ]
    }
   ],
   "source": [
    "for i in range(5):\n",
    "    print(\"i : \", i)\n",
    "    for j in range(5):\n",
    "        #print(\"j : \", j)\n",
    "        print(\"i * j : \", i* j)\n",
    "    print(\"-\"*10)   "
   ]
  },
  {
   "cell_type": "code",
   "execution_count": 27,
   "metadata": {},
   "outputs": [
    {
     "name": "stdout",
     "output_type": "stream",
     "text": [
      "코드 실행\n",
      "코드 실행\n",
      "코드 실행\n",
      "코드 실행\n",
      "코드 실행\n",
      "코드 실행\n",
      "코드 실행\n",
      "코드 실행\n",
      "코드 실행\n",
      "코드 실행\n",
      "코드 실행\n",
      "코드 실행\n",
      "코드 실행\n",
      "코드 실행\n",
      "코드 실행\n",
      "코드 실행\n",
      "코드 실행\n",
      "코드 실행\n",
      "코드 실행\n",
      "코드 실행\n",
      "코드 실행\n",
      "코드 실행\n",
      "코드 실행\n",
      "코드 실행\n",
      "코드 실행\n"
     ]
    }
   ],
   "source": [
    "for i in range(5):\n",
    "    for j in range(5):\n",
    "        print(\"코드 실행\")"
   ]
  },
  {
   "cell_type": "code",
   "execution_count": 29,
   "metadata": {},
   "outputs": [
    {
     "name": "stdout",
     "output_type": "stream",
     "text": [
      "(0, 'a')\n",
      "(1, 'b')\n",
      "(2, 'c')\n",
      "(3, 'd')\n"
     ]
    }
   ],
   "source": [
    "l1 = ['a', 'b', 'c', 'd']\n",
    "for i in enumerate(l1):\n",
    "    print(i)"
   ]
  },
  {
   "cell_type": "code",
   "execution_count": 30,
   "metadata": {},
   "outputs": [
    {
     "name": "stdout",
     "output_type": "stream",
     "text": [
      "10\n",
      "20\n"
     ]
    }
   ],
   "source": [
    "a, b =(10, 20)\n",
    "print(a)\n",
    "print(b)"
   ]
  },
  {
   "cell_type": "code",
   "execution_count": 32,
   "metadata": {},
   "outputs": [
    {
     "name": "stdout",
     "output_type": "stream",
     "text": [
      "0 a\n",
      "1 b\n",
      "2 c\n",
      "3 d\n"
     ]
    }
   ],
   "source": [
    "l1 = ['a', 'b', 'c', 'd']\n",
    "for idx, value in enumerate(l1):\n",
    "    print(idx,value)"
   ]
  },
  {
   "cell_type": "code",
   "execution_count": 37,
   "metadata": {},
   "outputs": [],
   "source": [
    "for idx, value in enumerate(l1):\n",
    "    if idx>=2:\n",
    "        l1[idx] = 0\n",
    "                "
   ]
  },
  {
   "cell_type": "code",
   "execution_count": 38,
   "metadata": {},
   "outputs": [
    {
     "data": {
      "text/plain": [
       "['a', 'b', 0, 0]"
      ]
     },
     "execution_count": 38,
     "metadata": {},
     "output_type": "execute_result"
    }
   ],
   "source": [
    "l1"
   ]
  },
  {
   "cell_type": "markdown",
   "metadata": {},
   "source": [
    "## 연습문제4."
   ]
  },
  {
   "cell_type": "code",
   "execution_count": 130,
   "metadata": {},
   "outputs": [
    {
     "name": "stdout",
     "output_type": "stream",
     "text": [
      "30\n",
      "60\n",
      "90\n",
      "200\n",
      "-70\n",
      "50\n"
     ]
    },
    {
     "data": {
      "text/plain": [
       "[30, 60, 90, 200, -70, 50]"
      ]
     },
     "execution_count": 130,
     "metadata": {},
     "output_type": "execute_result"
    }
   ],
   "source": [
    "x = [3, 6, 9, 20, -7, 5]\n",
    "\n",
    "for idx, value in enumerate(x):\n",
    "    x[idx] = value * 10\n",
    "    print(x[idx])\n",
    "x   "
   ]
  },
  {
   "cell_type": "code",
   "execution_count": 135,
   "metadata": {},
   "outputs": [
    {
     "data": {
      "text/plain": [
       "{'math': 80, 'science': 90, 'english': 30}"
      ]
     },
     "execution_count": 135,
     "metadata": {},
     "output_type": "execute_result"
    }
   ],
   "source": [
    "y = {\n",
    "    \"math\":70,\n",
    "   \"science\" : 80,\n",
    "    \"english\" : 20\n",
    "}\n",
    "\n",
    "for  key in y:\n",
    "         y[key] = y[key]+10\n",
    "        \n",
    "y"
   ]
  },
  {
   "cell_type": "code",
   "execution_count": 71,
   "metadata": {},
   "outputs": [
    {
     "name": "stdout",
     "output_type": "stream",
     "text": [
      "정수를 입력하세요. : 5\n",
      "5 * 1 = 5\n",
      "5 * 2 = 10\n",
      "5 * 3 = 15\n",
      "5 * 4 = 20\n",
      "5 * 5 = 25\n",
      "5 * 6 = 30\n",
      "5 * 7 = 35\n",
      "5 * 8 = 40\n",
      "5 * 9 = 45\n"
     ]
    }
   ],
   "source": [
    "num = int(input(\"정수를 입력하세요. : \"))\n",
    "\n",
    "for i in range(1,10,1):\n",
    "    print(str(num) +\" * \" + str(i) +\" = \" + str(i*num)  ) #print(\"{} * {} = {}\".format(num,i,num*i))"
   ]
  },
  {
   "cell_type": "code",
   "execution_count": 155,
   "metadata": {},
   "outputs": [
    {
     "ename": "SyntaxError",
     "evalue": "invalid syntax (<ipython-input-155-e68642ae2829>, line 5)",
     "output_type": "error",
     "traceback": [
      "\u001b[1;36m  File \u001b[1;32m\"<ipython-input-155-e68642ae2829>\"\u001b[1;36m, line \u001b[1;32m5\u001b[0m\n\u001b[1;33m    if !(len(i) >=6):\u001b[0m\n\u001b[1;37m       ^\u001b[0m\n\u001b[1;31mSyntaxError\u001b[0m\u001b[1;31m:\u001b[0m invalid syntax\n"
     ]
    }
   ],
   "source": [
    "word = [\"school\", \"game\", \"piano\", \"science\", \"hotel\", \"mountian\"]\n",
    "len1 = []\n",
    "\n",
    "for i in word:\n",
    "    if len(i) >=6:\n",
    "        len1.append(i)\n",
    "len1        "
   ]
  },
  {
   "cell_type": "code",
   "execution_count": 158,
   "metadata": {},
   "outputs": [
    {
     "name": "stdout",
     "output_type": "stream",
     "text": [
      "[1 단]\n",
      "1 * 1 = 1\n",
      "1 * 2 = 2\n",
      "1 * 3 = 3\n",
      "1 * 4 = 4\n",
      "1 * 5 = 5\n",
      "1 * 6 = 6\n",
      "1 * 7 = 7\n",
      "1 * 8 = 8\n",
      "1 * 9 = 9\n",
      "----------\n",
      "[2 단]\n",
      "2 * 1 = 2\n",
      "2 * 2 = 4\n",
      "2 * 3 = 6\n",
      "2 * 4 = 8\n",
      "2 * 5 = 10\n",
      "2 * 6 = 12\n",
      "2 * 7 = 14\n",
      "2 * 8 = 16\n",
      "2 * 9 = 18\n",
      "----------\n",
      "[3 단]\n",
      "3 * 1 = 3\n",
      "3 * 2 = 6\n",
      "3 * 3 = 9\n",
      "3 * 4 = 12\n",
      "3 * 5 = 15\n",
      "3 * 6 = 18\n",
      "3 * 7 = 21\n",
      "3 * 8 = 24\n",
      "3 * 9 = 27\n",
      "----------\n",
      "[4 단]\n",
      "4 * 1 = 4\n",
      "4 * 2 = 8\n",
      "4 * 3 = 12\n",
      "4 * 4 = 16\n",
      "4 * 5 = 20\n",
      "4 * 6 = 24\n",
      "4 * 7 = 28\n",
      "4 * 8 = 32\n",
      "4 * 9 = 36\n",
      "----------\n",
      "[5 단]\n",
      "5 * 1 = 5\n",
      "5 * 2 = 10\n",
      "5 * 3 = 15\n",
      "5 * 4 = 20\n",
      "5 * 5 = 25\n",
      "5 * 6 = 30\n",
      "5 * 7 = 35\n",
      "5 * 8 = 40\n",
      "5 * 9 = 45\n",
      "----------\n",
      "[6 단]\n",
      "6 * 1 = 6\n",
      "6 * 2 = 12\n",
      "6 * 3 = 18\n",
      "6 * 4 = 24\n",
      "6 * 5 = 30\n",
      "6 * 6 = 36\n",
      "6 * 7 = 42\n",
      "6 * 8 = 48\n",
      "6 * 9 = 54\n",
      "----------\n",
      "[7 단]\n",
      "7 * 1 = 7\n",
      "7 * 2 = 14\n",
      "7 * 3 = 21\n",
      "7 * 4 = 28\n",
      "7 * 5 = 35\n",
      "7 * 6 = 42\n",
      "7 * 7 = 49\n",
      "7 * 8 = 56\n",
      "7 * 9 = 63\n",
      "----------\n",
      "[8 단]\n",
      "8 * 1 = 8\n",
      "8 * 2 = 16\n",
      "8 * 3 = 24\n",
      "8 * 4 = 32\n",
      "8 * 5 = 40\n",
      "8 * 6 = 48\n",
      "8 * 7 = 56\n",
      "8 * 8 = 64\n",
      "8 * 9 = 72\n",
      "----------\n",
      "[9 단]\n",
      "9 * 1 = 9\n",
      "9 * 2 = 18\n",
      "9 * 3 = 27\n",
      "9 * 4 = 36\n",
      "9 * 5 = 45\n",
      "9 * 6 = 54\n",
      "9 * 7 = 63\n",
      "9 * 8 = 72\n",
      "9 * 9 = 81\n",
      "----------\n"
     ]
    }
   ],
   "source": [
    "for i in range(1,10,1):\n",
    "    print(\"[%s 단]\" % i)\n",
    "    for j in range(1,10,1):\n",
    "        print(\"{} * {} = {}\".format( i, j ,i*j))\n",
    "    print(\"-\"*10)   "
   ]
  },
  {
   "cell_type": "code",
   "execution_count": 153,
   "metadata": {},
   "outputs": [
    {
     "name": "stdout",
     "output_type": "stream",
     "text": [
      "정수를 입력하시오. : 20\n",
      "1\n",
      "2\n",
      "3는 3의 공배수\n",
      "4\n",
      "5는 5의 공배수\n",
      "6는 3의 공배수\n",
      "7\n",
      "8\n",
      "9는 3의 공배수\n",
      "10는 5의 공배수\n",
      "11\n",
      "12는 3의 공배수\n",
      "13\n",
      "14\n",
      "15는 3과 5의 공배수\n",
      "16\n",
      "17\n",
      "18는 3의 공배수\n",
      "19\n",
      "20는 5의 공배수\n"
     ]
    }
   ],
   "source": [
    "num = int(input(\"정수를 입력하시오. : \"))\n",
    "\n",
    "for i in range(1,num+1,1):\n",
    "    if (i % 3 ==0) and (i % 5 == 0):\n",
    "        print(\"{}는 3과 5의 공배수\".format(i))\n",
    "    elif  i % 3 ==0:\n",
    "         print(\"{}는 3의 공배수\".format(i))\n",
    "    elif  i % 5 ==0:\n",
    "         print(\"{}는 5의 공배수\".format(i))\n",
    "    else:\n",
    "        print(i)\n",
    "        "
   ]
  },
  {
   "cell_type": "code",
   "execution_count": null,
   "metadata": {},
   "outputs": [],
   "source": []
  },
  {
   "cell_type": "code",
   "execution_count": null,
   "metadata": {},
   "outputs": [],
   "source": []
  },
  {
   "cell_type": "code",
   "execution_count": null,
   "metadata": {},
   "outputs": [],
   "source": []
  },
  {
   "cell_type": "code",
   "execution_count": null,
   "metadata": {},
   "outputs": [],
   "source": []
  },
  {
   "cell_type": "code",
   "execution_count": null,
   "metadata": {},
   "outputs": [],
   "source": []
  },
  {
   "cell_type": "code",
   "execution_count": null,
   "metadata": {},
   "outputs": [],
   "source": []
  },
  {
   "cell_type": "code",
   "execution_count": null,
   "metadata": {},
   "outputs": [],
   "source": []
  },
  {
   "cell_type": "code",
   "execution_count": null,
   "metadata": {},
   "outputs": [],
   "source": []
  }
 ],
 "metadata": {
  "kernelspec": {
   "display_name": "Python 3",
   "language": "python",
   "name": "python3"
  },
  "language_info": {
   "codemirror_mode": {
    "name": "ipython",
    "version": 3
   },
   "file_extension": ".py",
   "mimetype": "text/x-python",
   "name": "python",
   "nbconvert_exporter": "python",
   "pygments_lexer": "ipython3",
   "version": "3.7.3"
  }
 },
 "nbformat": 4,
 "nbformat_minor": 4
}

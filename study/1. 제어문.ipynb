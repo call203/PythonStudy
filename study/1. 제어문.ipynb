{
 "cells": [
  {
   "cell_type": "code",
   "execution_count": 15,
   "metadata": {},
   "outputs": [],
   "source": [
    "x =3"
   ]
  },
  {
   "cell_type": "code",
   "execution_count": 5,
   "metadata": {},
   "outputs": [
    {
     "name": "stdout",
     "output_type": "stream",
     "text": [
      "X는 10입니다\n"
     ]
    }
   ],
   "source": [
    "if x== 10:\n",
    "    print(\"X는 10입니다\")"
   ]
  },
  {
   "cell_type": "code",
   "execution_count": 7,
   "metadata": {},
   "outputs": [],
   "source": [
    "if x != 10:\n",
    "    print(\"x는 10이 아닙니다.\")"
   ]
  },
  {
   "cell_type": "code",
   "execution_count": 8,
   "metadata": {},
   "outputs": [],
   "source": [
    "if x == 10:\n",
    "    pass"
   ]
  },
  {
   "cell_type": "code",
   "execution_count": 9,
   "metadata": {},
   "outputs": [
    {
     "name": "stdout",
     "output_type": "stream",
     "text": [
      "x는 3보다 크고 20보다 작습니다.\n"
     ]
    }
   ],
   "source": [
    "if x > 3 and x < 20:\n",
    "    print('x는 3보다 크고 20보다 작습니다.')"
   ]
  },
  {
   "cell_type": "code",
   "execution_count": 13,
   "metadata": {},
   "outputs": [
    {
     "name": "stdout",
     "output_type": "stream",
     "text": [
      "x는 3보다 작습니다.\n",
      "x는 10보다 크거나 같습니다.\n",
      "x는 20보다 작습니다.\n"
     ]
    }
   ],
   "source": [
    "if x>3:\n",
    "    print(\"x는 3보다 작습니다.\")\n",
    "    if x >=10:\n",
    "        print(\"x는 10보다 크거나 같습니다.\")\n",
    "    if x <20:\n",
    "        print(\"x는 20보다 작습니다.\")"
   ]
  },
  {
   "cell_type": "code",
   "execution_count": 17,
   "metadata": {},
   "outputs": [
    {
     "name": "stdout",
     "output_type": "stream",
     "text": [
      "x는 5보다 작거나 같습니다.\n"
     ]
    }
   ],
   "source": [
    "if x >5:\n",
    "    print(\"x는 5보다 큽니다.\")\n",
    "else:\n",
    "    print(\"x는 5보다 작거나 같습니다.\")"
   ]
  },
  {
   "cell_type": "code",
   "execution_count": null,
   "metadata": {},
   "outputs": [],
   "source": [
    "if x>5:\n",
    "    print(\"x는 5보다 큽니다.\")\n",
    "elif x<2:\n",
    "    print(\"x는 2보다 큽니다.\")\n",
    "elif x>0:\n",
    "    print(\"x는 0보다 큽니다.\")\n",
    "else:\n",
    "    print(\"x는 음수입니다.\")"
   ]
  },
  {
   "cell_type": "markdown",
   "metadata": {},
   "source": [
    "## 연습문제1."
   ]
  },
  {
   "cell_type": "code",
   "execution_count": 39,
   "metadata": {},
   "outputs": [
    {
     "name": "stdout",
     "output_type": "stream",
     "text": [
      "점수1:  10\n",
      "점수2:  22\n",
      "점수3:  66\n"
     ]
    }
   ],
   "source": [
    "while(True):\n",
    "    \n",
    "    sc1 = int(input(\"점수1:  \"))\n",
    "    sc2 = int(input(\"점수2:  \"))\n",
    "    sc3 = int(input(\"점수3:  \"))\n",
    "    if(sc1<0 or sc1>100 or sc2<0 or sc2>100 or sc3<0 or sc3>100):\n",
    "         print(\"잘못된 점수가 입력되었습니다.\")\n",
    "    else: break               "
   ]
  },
  {
   "cell_type": "code",
   "execution_count": 37,
   "metadata": {},
   "outputs": [
    {
     "name": "stdout",
     "output_type": "stream",
     "text": [
      "합격\n"
     ]
    }
   ],
   "source": [
    "if(sc1<0 or sc1>100 or sc2<0 or sc2>100 or sc3<0 or sc3>100):\n",
    "    print(\"잘못된 점수가 입력되었습니다.\")\n",
    "else:\n",
    "    if(sc1 >65 and sc2 >65 and sc3 >65 ):\n",
    "        print(\"합격\")\n",
    "    else:\n",
    "        print(\"불합격\")"
   ]
  },
  {
   "cell_type": "code",
   "execution_count": 48,
   "metadata": {},
   "outputs": [
    {
     "name": "stdout",
     "output_type": "stream",
     "text": [
      "점수1:  55\n",
      "점수2:  99\n",
      "점수3:  99\n",
      "불합격\n"
     ]
    }
   ],
   "source": [
    "## 다른 답\n",
    "sc1 = int(input(\"점수1:  \"))\n",
    "sc2 = int(input(\"점수2:  \"))\n",
    "sc3 = int(input(\"점수3:  \"))\n",
    "\n",
    "sc1, sc2, sc3 = map(int,[sc1, sc2, sc3])\n",
    "if(sc1 not in range(101) or sc2 not in range(101) or sc3 not in range(101)):\n",
    "    print(\"잘못된 점수가 입력되었습니다.\")\n",
    "elif (sc1 >65 and sc2 >65 and sc3 >65 ):  \n",
    "    print(\"합격\")\n",
    "else:\n",
    "    print(\"불합격\")"
   ]
  },
  {
   "cell_type": "markdown",
   "metadata": {},
   "source": [
    "## 연습문제2."
   ]
  },
  {
   "cell_type": "code",
   "execution_count": 63,
   "metadata": {},
   "outputs": [
    {
     "name": "stdout",
     "output_type": "stream",
     "text": [
      "정수를 입력하시오. : 4\n",
      "입력하신 4 는(은) 짝수입니다.\n"
     ]
    }
   ],
   "source": [
    "try:\n",
    "    a = int(input(\"정수를 입력하시오. : \"))\n",
    "        \n",
    "    if(a % 2 == 0):\n",
    "         print(\"입력하신 {} 는(은) 짝수입니다.\".format(a))\n",
    "    else:\n",
    "        print(\"입력하신 {} 는(은) 홀수입니다.\".format(a))\n",
    "except:\n",
    "    print(\"입력하신 숫자가 정수가 아닙니다.\")\n"
   ]
  },
  {
   "cell_type": "markdown",
   "metadata": {},
   "source": [
    "# For"
   ]
  },
  {
   "cell_type": "code",
   "execution_count": 64,
   "metadata": {},
   "outputs": [
    {
     "name": "stdout",
     "output_type": "stream",
     "text": [
      "0\n",
      "1\n",
      "2\n",
      "3\n",
      "4\n",
      "5\n",
      "6\n",
      "7\n",
      "8\n",
      "9\n"
     ]
    }
   ],
   "source": [
    "for i in range(10):\n",
    "    print(i)"
   ]
  },
  {
   "cell_type": "code",
   "execution_count": 65,
   "metadata": {},
   "outputs": [
    {
     "name": "stdout",
     "output_type": "stream",
     "text": [
      "a\n",
      "b\n",
      "c\n"
     ]
    }
   ],
   "source": [
    "for i in ['a', 'b', 'c']:\n",
    "    print(i)"
   ]
  },
  {
   "cell_type": "code",
   "execution_count": 66,
   "metadata": {},
   "outputs": [],
   "source": [
    "profile ={\n",
    "    \"name\" : \"이김박\",\n",
    "    \"height\" : 160,\n",
    "    \"City\" : \"독도\"\n",
    "}"
   ]
  },
  {
   "cell_type": "code",
   "execution_count": 70,
   "metadata": {},
   "outputs": [
    {
     "name": "stdout",
     "output_type": "stream",
     "text": [
      "name\n",
      "height\n",
      "City\n"
     ]
    }
   ],
   "source": [
    "for i in profile:\n",
    "    print(i)"
   ]
  },
  {
   "cell_type": "code",
   "execution_count": 71,
   "metadata": {},
   "outputs": [
    {
     "name": "stdout",
     "output_type": "stream",
     "text": [
      "O\n",
      "r\n",
      "a\n",
      "n\n",
      "g\n",
      "e\n"
     ]
    }
   ],
   "source": [
    "for i in \"Orange\":\n",
    "    print(i)"
   ]
  },
  {
   "cell_type": "markdown",
   "metadata": {},
   "source": [
    "## 연습문제3."
   ]
  },
  {
   "cell_type": "code",
   "execution_count": 80,
   "metadata": {},
   "outputs": [
    {
     "name": "stdout",
     "output_type": "stream",
     "text": [
      "정수를 입력하세요 :  2\n",
      "안녕\n",
      "안녕\n"
     ]
    }
   ],
   "source": [
    "num1 = int(input(\"정수를 입력하세요 :  \"))\n",
    "\n",
    "for i in range(num1):\n",
    "    print(\"안녕\")\n",
    "   "
   ]
  },
  {
   "cell_type": "code",
   "execution_count": 83,
   "metadata": {},
   "outputs": [
    {
     "name": "stdout",
     "output_type": "stream",
     "text": [
      "정수를 입력하세요 :  5\n",
      "*\n",
      "*\n",
      "*\n"
     ]
    }
   ],
   "source": [
    "num2 = int(input(\"정수를 입력하세요 :  \"))\n",
    "\n",
    "for i in range(num1):\n",
    "    for j in range(i+1):\n",
    "        print(\"*\")\n",
    "    "
   ]
  }
 ],
 "metadata": {
  "kernelspec": {
   "display_name": "Python 3",
   "language": "python",
   "name": "python3"
  }
 },
 "nbformat": 4,
 "nbformat_minor": 4
}

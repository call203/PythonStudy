{
 "cells": [
  {
   "cell_type": "code",
   "execution_count": 24,
   "metadata": {},
   "outputs": [],
   "source": [
    "import requests\n",
    "from bs4 import BeautifulSoup\n",
    "import re\n",
    "import datetime\n",
    "\n",
    "from konlpy.tag import Twitter\n",
    "from collections import Counter"
   ]
  },
  {
   "cell_type": "code",
   "execution_count": 164,
   "metadata": {
    "scrolled": true
   },
   "outputs": [],
   "source": [
    "def make_f(newlist):\n",
    "    # 파일명\n",
    "    menu_list=['a3.txt','c3.txt','b3.txt',\n",
    "          'd3.txt','e3.txt','g3.txt']\n",
    "    for idx, i in enumerate(menu_list):\n",
    "        f = open(i,'w')\n",
    "        for j in newlist[idx]:\n",
    "            msg = j\n",
    "            f.write(j+\"\\n\")\n",
    "        f.close()\n",
    "        #main()        "
   ]
  },
  {
   "cell_type": "markdown",
   "metadata": {},
   "source": [
    "### 뉴스 리스트 가져오기"
   ]
  },
  {
   "cell_type": "code",
   "execution_count": 165,
   "metadata": {},
   "outputs": [],
   "source": [
    "#스포츠 메뉴의 구조가 달라 따로 구함\n",
    "def sport(Sports_list):\n",
    "    for i in range(3):\n",
    "        params={\n",
    "            'page':i+1,\n",
    "            's_mcd':'0107'\n",
    "        }\n",
    "        resp = requests.get('https://www.ytn.co.kr/photo/photo_list.php',params=params)\n",
    "        soup = BeautifulSoup(resp.text)\n",
    "        #리스트\n",
    "        sec_tag = soup.find(\"div\", id=\"ytn_list_v2014\")\n",
    "        dl_tag=sec_tag.find_all(\"dl\",class_='photo_list')\n",
    "        \n",
    "        for j in dl_tag:\n",
    "            # 날짜\n",
    "            date_tag = j.find('dd',class_='date')\n",
    "            date_d = date_tag.text\n",
    "            date = date_d.split(\" \")\n",
    "            date = date[0].replace(\"[\",\"\")\n",
    "\n",
    "\n",
    "            if day == date:\n",
    "                dt_tag =j.find_all('dt')\n",
    "                a_tag = dt_tag[0].find(\"a\")\n",
    "                title = a_tag.text\n",
    "                \n",
    "                \n",
    "                if title in Sports_list:\n",
    "                    continue\n",
    "                    \n",
    "                Sports_list.append(title)\n",
    "                \n",
    "      "
   ]
  },
  {
   "cell_type": "code",
   "execution_count": 167,
   "metadata": {
    "scrolled": true
   },
   "outputs": [
    {
     "name": "stdout",
     "output_type": "stream",
     "text": [
      "2020-08-05\n"
     ]
    }
   ],
   "source": [
    "# 오늘 날짜 \n",
    "now = datetime.datetime.now()\n",
    "day = now.strftime(\"%Y-%m-%d\")\n",
    "print(day)\n",
    "\n",
    "\n",
    "\n",
    "# YTN사이트\n",
    "url = 'https://www.ytn.co.kr/news/news_list_0101.html'\n",
    "\n",
    "resp = requests.get(url)\n",
    "soup = BeautifulSoup(resp.content)\n",
    "menu = soup.find(\"ul\",id='sub_1')\n",
    "li_tag = menu.find_all('li',recursive=False)\n",
    "\n",
    "a=[]\n",
    "politics_list=[]\n",
    "economy_list=[]\n",
    "social_list=[]\n",
    "domestic_list=[]\n",
    "International_list=[]\n",
    "Science_list=[]\n",
    "Sports_list=[]\n",
    "culture_list =[]\n",
    "\n",
    "\n",
    "# 카테고리마다 뉴스 제목 리스트\n",
    "newlist = [politics_list,economy_list,social_list,domestic_list,\n",
    "           International_list,Science_list,culture_list]\n",
    "\n",
    "\n",
    "#3,4,5,6,7,8,9,10,11\n",
    "url2 = 'https://www.ytn.co.kr/news/news_list.php?'\n",
    "for idx in range(3,11,1):\n",
    "    #메뉴이동\n",
    "    a_tag =li_tag[idx].find('a')\n",
    "    move = a_tag.get('href')\n",
    "    a = re.findall('\\d+',move)\n",
    "    \n",
    "    if idx == 10:\n",
    "        sport(Sports_list)\n",
    "        newlist.remove(domestic_list)\n",
    "        newlist.remove(Science_list)\n",
    "        newlist.append(Sports_list)\n",
    "        make_f(newlist)\n",
    "        break\n",
    "\n",
    "          \n",
    "    for i in range(3):\n",
    "        params={\n",
    "            'page':i+1,\n",
    "            's_mcd':a[0]\n",
    "        }\n",
    "        resp = requests.get(url2,params=params)\n",
    "        soup = BeautifulSoup(resp.text)\n",
    "\n",
    "        #리스트\n",
    "        sec_tag = soup.find(\"div\", id=\"ytn_list_v2014\")\n",
    "        \n",
    "        span_tag=sec_tag.find_all(\"dl\", class_=\"news_list_v2014\")\n",
    "\n",
    "        for j in span_tag:\n",
    "            # 날짜\n",
    "            date_tag = j.find('dd',class_='date')\n",
    "            date_d = date_tag.text\n",
    "            date = date_d.split(\" \")\n",
    "            date = date[0].replace(\"[\",\"\")\n",
    "\n",
    "\n",
    "            if day == date:\n",
    "                dt_tag =j.find_all('dt')\n",
    "                a_tag = dt_tag[0].find(\"a\")\n",
    "                title = a_tag.text\n",
    "                \n",
    "                \n",
    "                if title in newlist[idx-3]:\n",
    "                    continue\n",
    "                if idx == 6 or idx == 8:\n",
    "                    newlist[6].append(title)\n",
    " \n",
    "                else:    \n",
    "                    newlist[idx-3].append(title)\n",
    "           \n",
    "             "
   ]
  },
  {
   "cell_type": "markdown",
   "metadata": {},
   "source": [
    "## 텍스트 파일로 저장"
   ]
  },
  {
   "cell_type": "markdown",
   "metadata": {},
   "source": [
    "# 명사 분리"
   ]
  },
  {
   "cell_type": "code",
   "execution_count": 56,
   "metadata": {},
   "outputs": [],
   "source": [
    "menu_list=['list/politics.txt','list/social.txt','list/economy.txt','list/domestic.txt',\n",
    "          'list/International.txt','list/Science.txt','list/culture.txt','list/Sports.txt']\n",
    "\n",
    "\n",
    "def get_tags(text, ntags=50):\n",
    "    spliter = Twitter()\n",
    "    \n",
    "    # konlpy의 Twitter객체\n",
    "    nouns = spliter.nouns(text)\n",
    "    \n",
    "    # nouns 함수를 통해서 text에서 명사만 분리/추출\n",
    "    count = Counter(nouns)\n",
    "    \n",
    "    \n",
    "    # Counter객체를 생성하고 참조변수 nouns할당\n",
    "    return_list = []  # 명사 빈도수 저장할 변수\n",
    "    for n, c in count.most_common(ntags):\n",
    "        temp = {'tag': n, 'count': c}\n",
    "        return_list.append(temp)\n",
    "        \n",
    "        \n",
    "    # most_common 메소드는 정수를 입력받아 객체 안의 명사중 빈도수\n",
    "    # 큰 명사부터 순서대로 입력받은 정수 갯수만큼 저장되어있는 객체 반환\n",
    "    # 명사와 사용된 갯수를 return_list에 저장합니다.\n",
    "    return return_list\n",
    "\n",
    "def main():\n",
    "    for i in menu_list:\n",
    "        text_file_name = i\n",
    "        # 분석할 파일\n",
    "        \n",
    "        noun_count = 20\n",
    "        # 최대 많은 빈도수 부터 20개 명사 추출\n",
    "        \n",
    "        \n",
    "        output_file_name = i\n",
    "        # count.txt 에 저장\n",
    "        \n",
    "        \n",
    "        open_text_file = open(text_file_name, 'r',encoding='euc-kr')\n",
    "        # 분석할 파일을 open \n",
    "        i = i.split(\"/\")\n",
    "        \n",
    "        text = open_text_file.read() #파일을 읽습니다.\n",
    "        tags = get_tags(text, noun_count) # get_tags 함수 실행\n",
    "        open_text_file.close()   #파일 close\n",
    "        open_output_file = open('list/count/' + i[1], 'w',encoding='euc-kr')\n",
    "        # 결과로 쓰일 count.txt 열기\n",
    "        for tag in tags:\n",
    "            noun = tag['tag']\n",
    "            count = tag['count']\n",
    "            open_output_file.write('{} {}\\n'.format(noun, count))\n",
    "        # 결과 저장\n",
    "        open_output_file.close() \n",
    "    \n",
    "    \n",
    "    \n",
    "if __name__ == '__main__':\n",
    "    main()"
   ]
  },
  {
   "cell_type": "markdown",
   "metadata": {},
   "source": [
    "## 시각화"
   ]
  },
  {
   "cell_type": "code",
   "execution_count": 107,
   "metadata": {
    "scrolled": true
   },
   "outputs": [
    {
     "name": "stdout",
     "output_type": "stream",
     "text": [
      "\n",
      "\n",
      "\n",
      "\n",
      "\n",
      "\n",
      "\n"
     ]
    },
    {
     "data": {
      "image/png": "[encoded data removed]",
      "text/plain": [
       "<Figure size 720x576 with 1 Axes>"
      ]
     },
     "metadata": {
      "needs_background": "light"
     },
     "output_type": "display_data"
    },
    {
     "data": {
      "image/png": "[encoded data removed]",
      "text/plain": [
       "<Figure size 720x576 with 1 Axes>"
      ]
     },
     "metadata": {
      "needs_background": "light"
     },
     "output_type": "display_data"
    },
    {
     "data": {
      "image/png": "[encoded data removed]",
      "text/plain": [
       "<Figure size 720x576 with 1 Axes>"
      ]
     },
     "metadata": {
      "needs_background": "light"
     },
     "output_type": "display_data"
    },
    {
     "data": {
      "image/png": "[encoded data removed]",
      "text/plain": [
       "<Figure size 720x576 with 1 Axes>"
      ]
     },
     "metadata": {
      "needs_background": "light"
     },
     "output_type": "display_data"
    },
    {
     "data": {
      "image/png": "[encoded data removed]",
      "text/plain": [
       "<Figure size 720x576 with 1 Axes>"
      ]
     },
     "metadata": {
      "needs_background": "light"
     },
     "output_type": "display_data"
    },
    {
     "data": {
      "image/png": "[encoded data removed]",
      "text/plain": [
       "<Figure size 720x576 with 1 Axes>"
      ]
     },
     "metadata": {
      "needs_background": "light"
     },
     "output_type": "display_data"
    },
    {
     "data": {
      "image/png": "[encoded data removed]",
      "text/plain": [
       "<Figure size 720x576 with 1 Axes>"
      ]
     },
     "metadata": {
      "needs_background": "light"
     },
     "output_type": "display_data"
    }
   ],
   "source": [
    "from wordcloud import WordCloud\n",
    "import matplotlib.pyplot as plt\n",
    "import nltk\n",
    "from nltk.corpus import stopwords\n",
    "from PIL import Image\n",
    "import numpy as np\n",
    "\n",
    "%matplotlib inline\n",
    "\n",
    "import matplotlib\n",
    "from IPython.display import set_matplotlib_formats\n",
    "\n",
    "count_list=['list/count/politics.txt','list/count/social.txt','list/count/economy.txt','list/count/domestic.txt',\n",
    "           'list/count/International.txt','list/count/culture.txt','list/count/Sports.txt']\n",
    "tag_list =[]\n",
    "for i in count_list:\n",
    "   \n",
    "    open_text_file = open(i, 'r',encoding='euc-kr')\n",
    "    text = open_text_file.read()\n",
    "    split1 = text.split(\"\\n\")\n",
    "    for i in split1:\n",
    "        if i == '':\n",
    "            break\n",
    "        split2 = i.split(\" \")\n",
    "        split2[1] = int(split2[1])\n",
    "        tags = tuple(split2)\n",
    "        tag_list.append(tags)\n",
    "        \n",
    "    if not tag_list:\n",
    "        continue\n",
    "    font_path = 'C:/Windows/Fonts/malgun.ttf';\n",
    "    alice_mask = np.array(Image.open(\"alice_mask.png\"))\n",
    "    wc = WordCloud( font_path = font_path,\n",
    "    width = 800,\n",
    "    height = 800,\n",
    "    background_color=\"white\",\n",
    "    mask = alice_mask)\n",
    "    cloud = wc.generate_from_frequencies(dict(tag_list))\n",
    "    plt.figure(figsize=(10,8))\n",
    "    plt.axis('off')\n",
    "    print(i)\n",
    "    plt.imshow(cloud)\n",
    "    \n",
    "    tag_list.clear()\n",
    "        \n"
   ]
  },
  {
   "cell_type": "code",
   "execution_count": 180,
   "metadata": {},
   "outputs": [],
   "source": [
    "############################################################\n",
    "##########프로젝트 MBN 홈페이지 긁어오는 함수 코드##########\n",
    "############################################################\n",
    "\n",
    "import requests\n",
    "import sys\n",
    "from bs4 import BeautifulSoup\n",
    "import json\n",
    "\n",
    "\n",
    "def MBN_News_Function():\n",
    "    \n",
    "    count=0\n",
    "    \n",
    "    reresult_list=[]\n",
    "    while count<7:\n",
    "        \n",
    "        if count==0:\n",
    "            category_s='politics'\n",
    "            MBN_url='https://www.mbn.co.kr/news/politics/'\n",
    "        \n",
    "        if count==1:\n",
    "            category_s='economy'\n",
    "            MBN_url='https://www.mbn.co.kr/news/economy/'\n",
    "\n",
    "        elif count==2:\n",
    "            category_s='society'\n",
    "            MBN_url='https://www.mbn.co.kr/news/society/'\n",
    "\n",
    "        elif count==3:\n",
    "            category_s='world'\n",
    "            MBN_url='https://www.mbn.co.kr/news/world/'\n",
    "\n",
    "        elif count==4:\n",
    "            category_s='culture'\n",
    "            MBN_url='https://www.mbn.co.kr/news/culture/'\n",
    "\n",
    "        elif count==5:\n",
    "            category_s='entertain'\n",
    "            MBN_url='https://www.mbn.co.kr/news/entertain/'        \n",
    "\n",
    "        elif count==6:\n",
    "            category_s='sports'\n",
    "            MBN_url='https://www.mbn.co.kr/news/sports/'\n",
    "\n",
    "        result_list=[]\n",
    "        for i in range(1,4): #페이지번호\n",
    "            params={\n",
    "                'page':i,\n",
    "                'vod':None,\n",
    "                'category':category_s\n",
    "            }\n",
    "            resp=requests.get(MBN_url, params=params)\n",
    "\n",
    "            resp.encoding='eur-kr'\n",
    "            soup=BeautifulSoup(resp.text, \"lxml\")\n",
    "\n",
    "            MBN_news_list=soup.select('div.list_area > dl.article_list > dt.tit > a')\n",
    "            MBN_news_list_date=soup.select('div.list_area > dl.article_list > dd.desc > span.date')\n",
    "\n",
    "            news_list=[]\n",
    "            for news,date in zip(MBN_news_list, MBN_news_list_date):\n",
    "\n",
    "                news=news.text.strip() #제목 내 띄어쓰기 제거\n",
    "                news=news.replace(\"\\'\" , \" \") #제목 내 따옴표 제거\n",
    "                news=news.replace(\"♥\" , \" \") #제목 내 따옴표 제거\n",
    "                news=news.replace(\"[포토]\",\" \") #제목 내 [포토] 제거\n",
    "\n",
    "                date=date.text[0:10].replace(\"-\",\"\")\n",
    "\n",
    "                if date == '20200805': #날짜 수정하면 됨\n",
    "                    news_list.append(news)\n",
    "            result_list.extend(news_list)\n",
    "        \n",
    "        count+=1\n",
    "        \n",
    "        \n",
    "        reresult_list.append(result_list)\n",
    "    return reresult_list\n",
    "\n",
    "\n",
    "\n",
    "\n",
    "\n",
    "\n",
    "def MBN_Life_News_Function():\n",
    "\n",
    "    category_s='life'\n",
    "    MBN_url='https://www.mbn.co.kr/news/life/'\n",
    "    result_list=[]\n",
    "    \n",
    "    re_list=[]\n",
    "    for i in range(1,5): #페이지번호\n",
    "        params={\n",
    "            'page':i,\n",
    "            'vod':None,\n",
    "            'category':category_s\n",
    "        }\n",
    "        resp=requests.get(MBN_url, params=params)\n",
    "\n",
    "        resp.encoding='eur-kr'\n",
    "        soup=BeautifulSoup(resp.text, \"lxml\")\n",
    "        \n",
    "        MBN_news_list=soup.select('div.list_area > dl.article_list > dt.tit > a')\n",
    "        MBN_news_list_date=soup.select('div.list_area > dl.article_list > dd.desc > span.date')\n",
    "\n",
    "        life_news_list=[]\n",
    "        for news,date in zip(MBN_news_list, MBN_news_list_date):\n",
    "\n",
    "            news=news.text.strip() #제목 내 띄어쓰기 제거\n",
    "            news=news.replace(\"\\'\" , \" \") #제목 내 따옴표 제거\n",
    "            news=news.replace(\"♥\" , \" \") #제목 내 따옴표 제거\n",
    "            news=news.replace(\"[포토]\",\" \") #제목 내 [포토] 제거\n",
    "\n",
    "            date=date.text[0:10].replace(\"-\",\"\")\n",
    "\n",
    "            if date == '20200805': #날짜 수정하면 됨\n",
    "                life_news_list.append(news)\n",
    "\n",
    "        result_list.extend(life_news_list)\n",
    "    return result_list\n",
    "\n",
    "\n",
    "\n",
    "\n",
    "\n",
    "\n",
    "############################################################\n",
    "#########프로젝트 MBN 메모장으로 꺼내오는 함수 코드#########\n",
    "############################################################\n",
    "\n",
    "# a1, 2, 3, 4 -> 정치\n",
    "# b1, 2, 3, 4 -> 경제\n",
    "# c1, 2, 3, 4 -> 사회\n",
    "# d1, 2, 3, 4 -> 국제\n",
    "# e1, 2, 3, 4 -> 생활&문화, 문화 + mbn생활건강 +ytn전국,과학\n",
    "# f1, 2, 3, 4 -> 연예\n",
    "# g1, 2, 3, 4 -> 스포츠\n",
    "\n",
    "def MBN():\n",
    "\n",
    "    title_list=['a','b','c','d','e','f','g']\n",
    "    #나중에 j를 e로 바꿔서 추가해야함!\n",
    "\n",
    "    f_list=[]\n",
    "    for title in title_list:\n",
    "        f=open('{}4.txt'.format(title),'w',-1,\"utf-8\")    \n",
    "        f_list.append(f)\n",
    "\n",
    "\n",
    "    MBN=MBN_News_Function()   # 2중리스트로 옴. [[1,2,3...] , [1,2,3...] , [1,2,3...]]\n",
    "\n",
    "\n",
    "    for i, f in zip(MBN,f_list):\n",
    "        for j in i:\n",
    "            f.write(j)\n",
    "            f.write('\\n')\n",
    "        f.close()\n",
    "\n",
    "        \n",
    "        \n",
    "\n",
    "    ## 생활을 e에 추가    \n",
    "    f_title_list=['e']\n",
    "\n",
    "\n",
    "    for title in f_title_list:\n",
    "        f=open('{}4.txt'.format(title),'a',-1,\"utf-8\")    \n",
    "\n",
    "\n",
    "    life_To_Memo=MBN_Life_News_Function()\n",
    "\n",
    "\n",
    "    for i in life_To_Memo:\n",
    "        f.write(i)\n",
    "        f.write('\\n')\n",
    "    f.close()\n",
    "    \n",
    "MBN()    "
   ]
  },
  {
   "cell_type": "code",
   "execution_count": null,
   "metadata": {},
   "outputs": [],
   "source": []
  },
  {
   "cell_type": "code",
   "execution_count": null,
   "metadata": {},
   "outputs": [],
   "source": []
  },
  {
   "cell_type": "code",
   "execution_count": null,
   "metadata": {},
   "outputs": [],
   "source": []
  },
  {
   "cell_type": "code",
   "execution_count": null,
   "metadata": {},
   "outputs": [],
   "source": []
  },
  {
   "cell_type": "code",
   "execution_count": null,
   "metadata": {},
   "outputs": [],
   "source": []
  },
  {
   "cell_type": "code",
   "execution_count": null,
   "metadata": {},
   "outputs": [],
   "source": []
  },
  {
   "cell_type": "code",
   "execution_count": null,
   "metadata": {},
   "outputs": [],
   "source": []
  },
  {
   "cell_type": "code",
   "execution_count": null,
   "metadata": {},
   "outputs": [],
   "source": []
  }
 ],
 "metadata": {
  "kernelspec": {
   "display_name": "Python 3",
   "language": "python",
   "name": "python3"
  },
  "language_info": {
   "codemirror_mode": {
    "name": "ipython",
    "version": 3
   },
   "file_extension": ".py",
   "mimetype": "text/x-python",
   "name": "python",
   "nbconvert_exporter": "python",
   "pygments_lexer": "ipython3",
   "version": "3.7.3"
  }
 },
 "nbformat": 4,
 "nbformat_minor": 2
}

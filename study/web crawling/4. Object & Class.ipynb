{
 "cells": [
  {
   "cell_type": "code",
   "execution_count": 3,
   "metadata": {},
   "outputs": [],
   "source": [
    "class Dog:\n",
    "    \n",
    "    def __init__(self, name, color): #생성자\n",
    "        self.hungry =100\n",
    "        self.name = name\n",
    "        self.color = color\n",
    "   \n",
    "    def eat(self):              #메소드\n",
    "        self.hungry -= 10\n",
    "        print(\"밥먹음\",self.hungry)\n",
    "   \n",
    "    def walk(self):               #메소드\n",
    "        self.hungry +=10\n",
    "        print(\"산책\", self.hungry)\n",
    "            "
   ]
  },
  {
   "cell_type": "code",
   "execution_count": 9,
   "metadata": {},
   "outputs": [
    {
     "name": "stdout",
     "output_type": "stream",
     "text": [
      "밥먹음 90\n",
      "밥먹음 80\n",
      "산책 90\n",
      "산책 100\n",
      "산책 110\n",
      "초코의 배고픔 정도 :110\n",
      "쩡이의 배고픔 정도 :100\n"
     ]
    }
   ],
   "source": [
    "choco = Dog(\"choco\",\"black\")\n",
    "jjong = Dog(\"jjong\", \"white\")\n",
    "\n",
    "choco.eat()\n",
    "choco.eat()\n",
    "choco.walk()\n",
    "choco.walk()\n",
    "choco.walk()\n",
    "print(\"초코의 배고픔 정도 :{}\".format(choco.hungry))\n",
    "print(\"쩡이의 배고픔 정도 :{}\".format(jjong.hungry))"
   ]
  },
  {
   "cell_type": "code",
   "execution_count": 32,
   "metadata": {},
   "outputs": [],
   "source": [
    "class Dog:\n",
    "    \n",
    "    def __init__(self, name, color): #생성자\n",
    "        self.__hungry =100 #private -->외부에서 접근할 수 없게 만드는 것.\n",
    "        self.name = name\n",
    "        self.color = color\n",
    "   \n",
    "    def eat(self):              #메소드\n",
    "        self.__hungry -= 10\n",
    "        print(\"밥먹음\",self.__hungry)\n",
    "   \n",
    "    def walk(self):               #메소드\n",
    "        self.__hungry +=10\n",
    "        print(\"산책\", self.__hungry)\n",
    "    def get_h(self):\n",
    "        return self.__hungry\n",
    "            "
   ]
  },
  {
   "cell_type": "code",
   "execution_count": 33,
   "metadata": {},
   "outputs": [
    {
     "data": {
      "text/plain": [
       "300"
      ]
     },
     "execution_count": 33,
     "metadata": {},
     "output_type": "execute_result"
    }
   ],
   "source": [
    "jjong.hungry = 300\n",
    "jjong.hungry"
   ]
  },
  {
   "cell_type": "code",
   "execution_count": 34,
   "metadata": {},
   "outputs": [],
   "source": [
    "jjong = Dog(\"jjong\",\"white\")"
   ]
  },
  {
   "cell_type": "code",
   "execution_count": 35,
   "metadata": {},
   "outputs": [
    {
     "name": "stdout",
     "output_type": "stream",
     "text": [
      "밥먹음 90\n"
     ]
    }
   ],
   "source": [
    "jjong.eat()"
   ]
  },
  {
   "cell_type": "code",
   "execution_count": 36,
   "metadata": {},
   "outputs": [
    {
     "data": {
      "text/plain": [
       "90"
      ]
     },
     "execution_count": 36,
     "metadata": {},
     "output_type": "execute_result"
    }
   ],
   "source": [
    "jjong.get_h()"
   ]
  },
  {
   "cell_type": "markdown",
   "metadata": {},
   "source": [
    "## 클래스 속성"
   ]
  },
  {
   "cell_type": "code",
   "execution_count": 192,
   "metadata": {},
   "outputs": [],
   "source": [
    "class Dog:\n",
    "    \n",
    "    dog_count =0 # 클래스 내에서만 관리하는 변수\n",
    "    \n",
    "    def __init__(self, name, color): #생성자\n",
    "        self.__hungry =100 #private -->외부에서 접근할 수 없게 만드는 것.\n",
    "        self.name = name\n",
    "        self.color = color\n",
    "        #class 속성\n",
    "        Dog.dog_count+=1\n",
    "   \n",
    "    def eat(self):              #메소드\n",
    "        self.__hungry -= 10\n",
    "        print(\"밥먹음\",self.__hungry)\n",
    "   \n",
    "    def walk(self):               #메소드\n",
    "        self.__hungry +=10\n",
    "        print(\"산책\", self.__hungry)\n",
    "    def get_h(self):\n",
    "        return self.__hungry\n",
    "    \n",
    "    @classmethod\n",
    "    def create_black_dog(cls, name):\n",
    "        print(\"현재 강아지 수 : \" ,cls.dog_count )\n",
    "        return cls(name, 'Black')\n",
    "    \n",
    "    @staticmethod\n",
    "    def intro():\n",
    "        print(\"안녕하세요. 동물의 숲입니다.\")\n",
    "    \n",
    "    def __str__(self):\n",
    "        return repr(self.dog_count)\n",
    "    \n",
    "    def __repr__(self):\n",
    "        return str({\n",
    "            'name' : self.name,\n",
    "            'color' : self.coclor\n",
    "            \n",
    "        })"
   ]
  },
  {
   "cell_type": "code",
   "execution_count": 193,
   "metadata": {},
   "outputs": [
    {
     "data": {
      "text/plain": [
       "0"
      ]
     },
     "execution_count": 193,
     "metadata": {},
     "output_type": "execute_result"
    }
   ],
   "source": [
    "Dog.dog_count"
   ]
  },
  {
   "cell_type": "code",
   "execution_count": 149,
   "metadata": {},
   "outputs": [
    {
     "name": "stdout",
     "output_type": "stream",
     "text": [
      "1\n"
     ]
    }
   ],
   "source": [
    "jjong = Dog(\"jjong\",\"Brown\")\n",
    "print(jjong)"
   ]
  },
  {
   "cell_type": "code",
   "execution_count": 46,
   "metadata": {},
   "outputs": [
    {
     "data": {
      "text/plain": [
       "3"
      ]
     },
     "execution_count": 46,
     "metadata": {},
     "output_type": "execute_result"
    }
   ],
   "source": [
    "choco = Dog('choco','gray')\n",
    "Dog.dog_count"
   ]
  },
  {
   "cell_type": "code",
   "execution_count": 49,
   "metadata": {},
   "outputs": [
    {
     "name": "stdout",
     "output_type": "stream",
     "text": [
      "현재 강아지 수 :  0\n"
     ]
    }
   ],
   "source": [
    "choco = Dog.create_black_dog(\"쵸코\")"
   ]
  },
  {
   "cell_type": "code",
   "execution_count": 50,
   "metadata": {},
   "outputs": [
    {
     "data": {
      "text/plain": [
       "'쵸코'"
      ]
     },
     "execution_count": 50,
     "metadata": {},
     "output_type": "execute_result"
    }
   ],
   "source": [
    "choco.name"
   ]
  },
  {
   "cell_type": "code",
   "execution_count": 52,
   "metadata": {},
   "outputs": [
    {
     "name": "stdout",
     "output_type": "stream",
     "text": [
      "안녕하세요. 동물의 숲입니다.\n"
     ]
    }
   ],
   "source": [
    "Dog.intro()"
   ]
  },
  {
   "cell_type": "markdown",
   "metadata": {},
   "source": [
    "## 연습문제 0."
   ]
  },
  {
   "cell_type": "markdown",
   "metadata": {},
   "source": [
    "Car 클래스를 만드세요\n",
    "객체 생성시 차이름, 배기량, 생산년도 입력받으세요\n",
    "객체 생성시 등록된 차이름, 배기량, 생산년도는 직접 변경하지 못합니다\n",
    "차 이름을 변경하는 함수를 만드세요\n",
    "배기량에 따라 1000CC 이하 소형\n",
    "                      1000CC 이상 2000CC 이하 중형\n",
    "                      2000CC 이상 대형을 출력하는 함수를 만드세요\n",
    "객체 생성시마다 등록된 차량 갯수를 기록해주세요\n",
    "총 등록된 차량개수를 출력하는 클래스 함수를 만드세요\n"
   ]
  },
  {
   "cell_type": "code",
   "execution_count": 183,
   "metadata": {},
   "outputs": [],
   "source": [
    "class Car:\n",
    "    car_count =0\n",
    "    \n",
    "    def __init__(self,name,value,date):\n",
    "        self.__name = name\n",
    "        self.__value = value\n",
    "        self.__date = date\n",
    "        self.__speed = 0\n",
    "        Car.car_count+=1\n",
    "    \n",
    "    def change_name(self,name):\n",
    "        self.__name = name\n",
    "        return self.__name\n",
    "        \n",
    "    def print_size(self):\n",
    "        \n",
    "        if self.__value <1000:\n",
    "            print(\"소형\")\n",
    "           \n",
    "        elif 1000<=self.__value<=2000:\n",
    "            print(\"중형\")\n",
    "            \n",
    "        elif self.__value>2000:\n",
    "            print(\"대형\") \n",
    "    \n",
    "    @classmethod\n",
    "    def car_count_print(cls):\n",
    "        print(cls.car_count)\n",
    "        return cls.car_count\n",
    "        \n",
    "    def get_name(self):\n",
    "        return self.__name\n",
    "    \n",
    "    def get_cc(self):\n",
    "        return self.__value\n",
    "    \n",
    "    def get_prod_year(self):\n",
    "        return self.__date\n",
    "    \n",
    "    def excel(self):\n",
    "        self.__speed+=1;\n",
    "\n",
    "    def break_(self):\n",
    "        if(self.__speed-1>0):\n",
    "            self.__speed-=1;\n",
    "        else:\n",
    "            print(\"감속할 속도가 없습니다.\")\n",
    "            \n",
    "    def get_speed(self):\n",
    "        return self.__speed\n",
    "\n",
    "    @property\n",
    "    def speed(self):\n",
    "        return self.__speed\n",
    "  \n",
    "    "
   ]
  },
  {
   "cell_type": "code",
   "execution_count": 184,
   "metadata": {},
   "outputs": [],
   "source": [
    "martiz = Car(\"martiz\",800,\"1993\")\n",
    "zeep = Car(\"zeep\",2100,\"2020\")"
   ]
  },
  {
   "cell_type": "code",
   "execution_count": 112,
   "metadata": {},
   "outputs": [],
   "source": [
    "martiz.change_name(\"b\")"
   ]
  },
  {
   "cell_type": "code",
   "execution_count": 120,
   "metadata": {},
   "outputs": [
    {
     "name": "stdout",
     "output_type": "stream",
     "text": [
      "대형\n",
      "None\n",
      "소형\n",
      "None\n"
     ]
    }
   ],
   "source": [
    "print(zeep.print_size())\n",
    "print(martiz.print_size())"
   ]
  },
  {
   "cell_type": "code",
   "execution_count": 135,
   "metadata": {},
   "outputs": [
    {
     "name": "stdout",
     "output_type": "stream",
     "text": [
      "2\n"
     ]
    }
   ],
   "source": [
    "Car.car_count_print()"
   ]
  },
  {
   "cell_type": "code",
   "execution_count": 125,
   "metadata": {},
   "outputs": [
    {
     "name": "stdout",
     "output_type": "stream",
     "text": [
      "martiz\n",
      "800\n",
      "1993\n",
      "zeep\n",
      "2100\n",
      "2020\n"
     ]
    }
   ],
   "source": [
    "print(martiz.get_name())\n",
    "print(martiz.get_cc())\n",
    "print(martiz.get_prod_year())\n",
    "print(zeep.get_name())\n",
    "print(zeep.get_cc())\n",
    "print(zeep.get_prod_year())"
   ]
  },
  {
   "cell_type": "code",
   "execution_count": 190,
   "metadata": {
    "scrolled": true
   },
   "outputs": [
    {
     "data": {
      "text/plain": [
       "4"
      ]
     },
     "execution_count": 190,
     "metadata": {},
     "output_type": "execute_result"
    }
   ],
   "source": [
    "martiz.excel()\n",
    "martiz.get_speed()"
   ]
  },
  {
   "cell_type": "code",
   "execution_count": 179,
   "metadata": {},
   "outputs": [
    {
     "name": "stdout",
     "output_type": "stream",
     "text": [
      "감속할 속도가 없습니다.\n"
     ]
    },
    {
     "data": {
      "text/plain": [
       "1"
      ]
     },
     "execution_count": 179,
     "metadata": {},
     "output_type": "execute_result"
    }
   ],
   "source": [
    "martiz.break_()\n",
    "martiz.get_speed()"
   ]
  },
  {
   "cell_type": "code",
   "execution_count": 191,
   "metadata": {},
   "outputs": [
    {
     "data": {
      "text/plain": [
       "4"
      ]
     },
     "execution_count": 191,
     "metadata": {},
     "output_type": "execute_result"
    }
   ],
   "source": [
    "martiz.speed"
   ]
  },
  {
   "cell_type": "markdown",
   "metadata": {},
   "source": [
    "# 상속"
   ]
  },
  {
   "cell_type": "code",
   "execution_count": 209,
   "metadata": {},
   "outputs": [],
   "source": [
    "class Car(object):\n",
    "    def __init__(self, wheel):\n",
    "        \n",
    "        for w in wheel:\n",
    "            if w.size != 40:\n",
    "                return False\n",
    "        \n",
    "            self.wheel = wheel\n",
    "        "
   ]
  },
  {
   "cell_type": "code",
   "execution_count": 210,
   "metadata": {},
   "outputs": [],
   "source": [
    "class Wheel(object):\n",
    "    def __init__(self,size):\n",
    "        self.shield =30\n",
    "        self.size = size"
   ]
  },
  {
   "cell_type": "code",
   "execution_count": 211,
   "metadata": {},
   "outputs": [],
   "source": [
    "wheels =[Wheel(40), Wheel(40), Wheel(40), Wheel(40)]\n",
    "car = Car(wheels)"
   ]
  },
  {
   "cell_type": "code",
   "execution_count": 287,
   "metadata": {},
   "outputs": [],
   "source": [
    "class Animal():\n",
    "    def __init__(self, name):\n",
    "        self.__hungry = 0\n",
    "        self.name = name\n",
    "        \n",
    "    def intro(self):\n",
    "        print(\"안녕하세요. 동물의 숲입니다.\")\n",
    "        "
   ]
  },
  {
   "cell_type": "code",
   "execution_count": 233,
   "metadata": {},
   "outputs": [],
   "source": [
    "class Dog(Animal):\n",
    "    def __init__(self, name, type_):\n",
    "        self.type_ = type_\n",
    "        super().__init__(name) #부모 클래스에 접근 & 인자 전달\n",
    "    "
   ]
  },
  {
   "cell_type": "code",
   "execution_count": 234,
   "metadata": {},
   "outputs": [],
   "source": [
    "class Cat(Animal):\n",
    "    pass"
   ]
  },
  {
   "cell_type": "code",
   "execution_count": 225,
   "metadata": {},
   "outputs": [
    {
     "name": "stdout",
     "output_type": "stream",
     "text": [
      "안녕하세요. 동물의 숲입니다.\n"
     ]
    }
   ],
   "source": [
    "dog1 = Dog()\n",
    "cat1 = Cat()\n",
    "\n",
    "cat1.intro()"
   ]
  },
  {
   "cell_type": "code",
   "execution_count": 288,
   "metadata": {},
   "outputs": [],
   "source": [
    "from abc import *"
   ]
  },
  {
   "cell_type": "code",
   "execution_count": 289,
   "metadata": {},
   "outputs": [],
   "source": [
    "class Bird(Animal):\n",
    "    def fly(self):\n",
    "        pass\n",
    "\n",
    "\n",
    "    \n",
    "    \n",
    "    \n",
    "class LandAnimal(Animal,metaclass=ABCMeta):\n",
    "    def __init__(self, name):\n",
    "        super().__init__(name) #부모 클래스에 접근 & 인자 전달\n",
    "\n",
    "\n",
    "    @abstractmethod\n",
    "    def walk(self):\n",
    "        pass\n",
    "    \n",
    "    \n",
    "class SeaAnimal(Animal):\n",
    "    def swim(self):\n",
    "        pass"
   ]
  },
  {
   "cell_type": "code",
   "execution_count": 265,
   "metadata": {},
   "outputs": [],
   "source": [
    "class Craw(Bird):\n",
    "    def cry(self):\n",
    "        print(\"까악 까악\")"
   ]
  },
  {
   "cell_type": "code",
   "execution_count": 292,
   "metadata": {},
   "outputs": [],
   "source": [
    "class Lion(LandAnimal):\n",
    "    \n",
    "    def __init__(self, name, _type):\n",
    "        self._type = _type #세부종\n",
    "        super().__init__(name) #부모 클래스에 접근 & 인자 전달\n",
    "    \n",
    "    #메소드 오버라이딩 \n",
    "    def intro(self):\n",
    "        super().intro()\n",
    "        print(\"여기 선물상자가 있어요.\")\n",
    "    \n",
    "    #추상 메소드 구현\n",
    "    def walk(self):\n",
    "        print(\"걷고 있다.\")\n",
    "        \n",
    "        \n",
    "    def cry(self):\n",
    "        print(\"어흥. \")"
   ]
  },
  {
   "cell_type": "code",
   "execution_count": 293,
   "metadata": {},
   "outputs": [
    {
     "name": "stdout",
     "output_type": "stream",
     "text": [
      "어흥. \n",
      "안녕하세요. 동물의 숲입니다.\n",
      "여기 선물상자가 있어요.\n"
     ]
    }
   ],
   "source": [
    "lion1 = Lion(\"어흥이\",\"아프리카사자\")\n",
    "lion1.cry()\n",
    "lion1.intro()"
   ]
  },
  {
   "cell_type": "code",
   "execution_count": 276,
   "metadata": {},
   "outputs": [
    {
     "data": {
      "text/plain": [
       "'아프리카사자'"
      ]
     },
     "execution_count": 276,
     "metadata": {},
     "output_type": "execute_result"
    }
   ],
   "source": [
    "lion1._type"
   ]
  },
  {
   "cell_type": "code",
   "execution_count": 277,
   "metadata": {},
   "outputs": [
    {
     "name": "stdout",
     "output_type": "stream",
     "text": [
      "안녕하세요. 동물의 숲입니다.\n",
      "여기 선물상자가 있어요.\n"
     ]
    }
   ],
   "source": [
    "lion1.intro()"
   ]
  },
  {
   "cell_type": "code",
   "execution_count": 278,
   "metadata": {},
   "outputs": [],
   "source": [
    "lion1.walk()"
   ]
  },
  {
   "cell_type": "markdown",
   "metadata": {},
   "source": [
    "## 다중상속"
   ]
  },
  {
   "cell_type": "code",
   "execution_count": 295,
   "metadata": {},
   "outputs": [],
   "source": [
    "class Bird(Animal):\n",
    "    def __init(self,name):\n",
    "        self.has_wing = True\n",
    "        super().__init__(name)\n"
   ]
  },
  {
   "cell_type": "code",
   "execution_count": 297,
   "metadata": {},
   "outputs": [],
   "source": [
    "class Fliable(object, metaclass=ABCMeta):\n",
    "    @abstractmethod\n",
    "    def fly(self):\n",
    "        pass"
   ]
  },
  {
   "cell_type": "code",
   "execution_count": 298,
   "metadata": {},
   "outputs": [],
   "source": [
    "class Walkable(object, metaclass=ABCMeta):\n",
    "    @abstractmethod\n",
    "    def walk(self):\n",
    "        pass"
   ]
  },
  {
   "cell_type": "code",
   "execution_count": 299,
   "metadata": {},
   "outputs": [],
   "source": [
    "class Ostrich(Bird, Walkable):\n",
    "    def __init__(self, name):\n",
    "        super().__init(name)\n",
    "        \n",
    "    def walk(self):\n",
    "        print(\"뚜벅 뚜벅\")    "
   ]
  }
 ],
 "metadata": {
  "kernelspec": {
   "display_name": "Python 3",
   "language": "python",
   "name": "python3"
  },
  "language_info": {
   "codemirror_mode": {
    "name": "ipython",
    "version": 3
   },
   "file_extension": ".py",
   "mimetype": "text/x-python",
   "name": "python",
   "nbconvert_exporter": "python",
   "pygments_lexer": "ipython3",
   "version": "3.7.3"
  }
 },
 "nbformat": 4,
 "nbformat_minor": 2
}

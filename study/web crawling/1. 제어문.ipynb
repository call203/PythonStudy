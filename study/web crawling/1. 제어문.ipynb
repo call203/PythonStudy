{
 "cells": [
  {
   "cell_type": "code",
   "execution_count": 15,
   "metadata": {},
   "outputs": [],
   "source": [
    "x =3"
   ]
  },
  {
   "cell_type": "code",
   "execution_count": 5,
   "metadata": {},
   "outputs": [
    {
     "name": "stdout",
     "output_type": "stream",
     "text": [
      "X는 10입니다\n"
     ]
    }
   ],
   "source": [
    "if x== 10:\n",
    "    print(\"X는 10입니다\")"
   ]
  },
  {
   "cell_type": "code",
   "execution_count": 7,
   "metadata": {},
   "outputs": [],
   "source": [
    "if x != 10:\n",
    "    print(\"x는 10이 아닙니다.\")"
   ]
  },
  {
   "cell_type": "code",
   "execution_count": 8,
   "metadata": {},
   "outputs": [],
   "source": [
    "if x == 10:\n",
    "    pass"
   ]
  },
  {
   "cell_type": "code",
   "execution_count": 9,
   "metadata": {},
   "outputs": [
    {
     "name": "stdout",
     "output_type": "stream",
     "text": [
      "x는 3보다 크고 20보다 작습니다.\n"
     ]
    }
   ],
   "source": [
    "if x > 3 and x < 20:\n",
    "    print('x는 3보다 크고 20보다 작습니다.')"
   ]
  },
  {
   "cell_type": "code",
   "execution_count": 13,
   "metadata": {},
   "outputs": [
    {
     "name": "stdout",
     "output_type": "stream",
     "text": [
      "x는 3보다 작습니다.\n",
      "x는 10보다 크거나 같습니다.\n",
      "x는 20보다 작습니다.\n"
     ]
    }
   ],
   "source": [
    "if x>3:\n",
    "    print(\"x는 3보다 작습니다.\")\n",
    "    if x >=10:\n",
    "        print(\"x는 10보다 크거나 같습니다.\")\n",
    "    if x <20:\n",
    "        print(\"x는 20보다 작습니다.\")"
   ]
  },
  {
   "cell_type": "code",
   "execution_count": 17,
   "metadata": {},
   "outputs": [
    {
     "name": "stdout",
     "output_type": "stream",
     "text": [
      "x는 5보다 작거나 같습니다.\n"
     ]
    }
   ],
   "source": [
    "if x >5:\n",
    "    print(\"x는 5보다 큽니다.\")\n",
    "else:\n",
    "    print(\"x는 5보다 작거나 같습니다.\")"
   ]
  },
  {
   "cell_type": "code",
   "execution_count": null,
   "metadata": {},
   "outputs": [],
   "source": [
    "if x>5:\n",
    "    print(\"x는 5보다 큽니다.\")\n",
    "elif x<2:\n",
    "    print(\"x는 2보다 큽니다.\")\n",
    "elif x>0:\n",
    "    print(\"x는 0보다 큽니다.\")\n",
    "else:\n",
    "    print(\"x는 음수입니다.\")"
   ]
  },
  {
   "cell_type": "markdown",
   "metadata": {},
   "source": [
    "## 연습문제1."
   ]
  },
  {
   "cell_type": "code",
   "execution_count": 39,
   "metadata": {},
   "outputs": [
    {
     "name": "stdout",
     "output_type": "stream",
     "text": [
      "점수1:  10\n",
      "점수2:  22\n",
      "점수3:  66\n"
     ]
    }
   ],
   "source": [
    "while(True):\n",
    "    \n",
    "    sc1 = int(input(\"점수1:  \"))\n",
    "    sc2 = int(input(\"점수2:  \"))\n",
    "    sc3 = int(input(\"점수3:  \"))\n",
    "    if(sc1<0 or sc1>100 or sc2<0 or sc2>100 or sc3<0 or sc3>100):\n",
    "         print(\"잘못된 점수가 입력되었습니다.\")\n",
    "    else: break               "
   ]
  },
  {
   "cell_type": "code",
   "execution_count": 37,
   "metadata": {},
   "outputs": [
    {
     "name": "stdout",
     "output_type": "stream",
     "text": [
      "합격\n"
     ]
    }
   ],
   "source": [
    "if(sc1<0 or sc1>100 or sc2<0 or sc2>100 or sc3<0 or sc3>100):\n",
    "    print(\"잘못된 점수가 입력되었습니다.\")\n",
    "else:\n",
    "    if(sc1 >65 and sc2 >65 and sc3 >65 ):\n",
    "        print(\"합격\")\n",
    "    else:\n",
    "        print(\"불합격\")"
   ]
  },
  {
   "cell_type": "code",
   "execution_count": 48,
   "metadata": {},
   "outputs": [
    {
     "name": "stdout",
     "output_type": "stream",
     "text": [
      "점수1:  55\n",
      "점수2:  99\n",
      "점수3:  99\n",
      "불합격\n"
     ]
    }
   ],
   "source": [
    "## 다른 답\n",
    "sc1 = int(input(\"점수1:  \"))\n",
    "sc2 = int(input(\"점수2:  \"))\n",
    "sc3 = int(input(\"점수3:  \"))\n",
    "\n",
    "sc1, sc2, sc3 = map(int,[sc1, sc2, sc3])\n",
    "if(sc1 not in range(101) or sc2 not in range(101) or sc3 not in range(101)):\n",
    "    print(\"잘못된 점수가 입력되었습니다.\")\n",
    "elif (sc1 >65 and sc2 >65 and sc3 >65 ):  \n",
    "    print(\"합격\")\n",
    "else:\n",
    "    print(\"불합격\")"
   ]
  },
  {
   "cell_type": "markdown",
   "metadata": {},
   "source": [
    "## 연습문제2."
   ]
  },
  {
   "cell_type": "code",
   "execution_count": 63,
   "metadata": {},
   "outputs": [
    {
     "name": "stdout",
     "output_type": "stream",
     "text": [
      "정수를 입력하시오. : 4\n",
      "입력하신 4 는(은) 짝수입니다.\n"
     ]
    }
   ],
   "source": [
    "try:\n",
    "    a = int(input(\"정수를 입력하시오. : \"))\n",
    "        \n",
    "    if(a % 2 == 0):\n",
    "         print(\"입력하신 {} 는(은) 짝수입니다.\".format(a))\n",
    "    else:\n",
    "        print(\"입력하신 {} 는(은) 홀수입니다.\".format(a))\n",
    "except:\n",
    "    print(\"입력하신 숫자가 정수가 아닙니다.\")\n"
   ]
  },
  {
   "cell_type": "markdown",
   "metadata": {},
   "source": [
    "# For"
   ]
  },
  {
   "cell_type": "code",
   "execution_count": 64,
   "metadata": {},
   "outputs": [
    {
     "name": "stdout",
     "output_type": "stream",
     "text": [
      "0\n",
      "1\n",
      "2\n",
      "3\n",
      "4\n",
      "5\n",
      "6\n",
      "7\n",
      "8\n",
      "9\n"
     ]
    }
   ],
   "source": [
    "for i in range(10):\n",
    "    print(i)"
   ]
  },
  {
   "cell_type": "code",
   "execution_count": 65,
   "metadata": {},
   "outputs": [
    {
     "name": "stdout",
     "output_type": "stream",
     "text": [
      "a\n",
      "b\n",
      "c\n"
     ]
    }
   ],
   "source": [
    "for i in ['a', 'b', 'c']:\n",
    "    print(i)"
   ]
  },
  {
   "cell_type": "code",
   "execution_count": 66,
   "metadata": {},
   "outputs": [],
   "source": [
    "profile ={\n",
    "    \"name\" : \"이김박\",\n",
    "    \"height\" : 160,\n",
    "    \"City\" : \"독도\"\n",
    "}"
   ]
  },
  {
   "cell_type": "code",
   "execution_count": 70,
   "metadata": {},
   "outputs": [
    {
     "name": "stdout",
     "output_type": "stream",
     "text": [
      "name\n",
      "height\n",
      "City\n"
     ]
    }
   ],
   "source": [
    "for i in profile:\n",
    "    print(i)"
   ]
  },
  {
   "cell_type": "code",
   "execution_count": 71,
   "metadata": {},
   "outputs": [
    {
     "name": "stdout",
     "output_type": "stream",
     "text": [
      "O\n",
      "r\n",
      "a\n",
      "n\n",
      "g\n",
      "e\n"
     ]
    }
   ],
   "source": [
    "for i in \"Orange\":\n",
    "    print(i)"
   ]
  },
  {
   "cell_type": "markdown",
   "metadata": {},
   "source": [
    "## 연습문제3."
   ]
  },
  {
   "cell_type": "code",
   "execution_count": 2,
   "metadata": {},
   "outputs": [
    {
     "name": "stdout",
     "output_type": "stream",
     "text": [
      "정수를 입력하세요 :  2\n",
      "안녕\n",
      "안녕\n"
     ]
    }
   ],
   "source": [
    "num1 = int(input(\"정수를 입력하세요 :  \"))\n",
    "\n",
    "for i in range(num1):\n",
    "    print(\"안녕\")\n",
    "   "
   ]
  },
  {
   "cell_type": "code",
   "execution_count": 20,
   "metadata": {},
   "outputs": [
    {
     "name": "stdout",
     "output_type": "stream",
     "text": [
      "정수를 입력하세요 :  3\n",
      "*\n",
      "**\n",
      "***\n"
     ]
    }
   ],
   "source": [
    "num2 = int(input(\"정수를 입력하세요 :  \"))\n",
    "\n",
    "# for i in range(num2):\n",
    "#     print(\" \",end=\"\\n\") \n",
    "#     for j in range(i+1):\n",
    "#         print(\"*\", end=\"\")\n",
    "\n",
    "# 다른 답\n",
    "for i in range(num2):\n",
    "    print(\"*\"*(i+1))"
   ]
  },
  {
   "cell_type": "code",
   "execution_count": 11,
   "metadata": {},
   "outputs": [
    {
     "name": "stdout",
     "output_type": "stream",
     "text": [
      "정수를 입력하세요 :  5\n",
      " \n",
      "* * * * *  \n",
      "* * * *  \n",
      "* * *  \n",
      "* *  \n",
      "* "
     ]
    }
   ],
   "source": [
    "num3 = int(input(\"정수를 입력하세요 :  \"))\n",
    "\n",
    "for i in range(num3,0,-1):\n",
    "    print(\" \",end=\"\\n\") \n",
    "    for j in range(i):\n",
    "        print(\"*\", end=\" \")\n",
    "        "
   ]
  },
  {
   "cell_type": "markdown",
   "metadata": {},
   "source": [
    "## for문 중첩"
   ]
  },
  {
   "cell_type": "code",
   "execution_count": 25,
   "metadata": {},
   "outputs": [
    {
     "name": "stdout",
     "output_type": "stream",
     "text": [
      "i :  0\n",
      "i * j :  0\n",
      "i * j :  0\n",
      "i * j :  0\n",
      "i * j :  0\n",
      "i * j :  0\n",
      "----------\n",
      "i :  1\n",
      "i * j :  0\n",
      "i * j :  1\n",
      "i * j :  2\n",
      "i * j :  3\n",
      "i * j :  4\n",
      "----------\n",
      "i :  2\n",
      "i * j :  0\n",
      "i * j :  2\n",
      "i * j :  4\n",
      "i * j :  6\n",
      "i * j :  8\n",
      "----------\n",
      "i :  3\n",
      "i * j :  0\n",
      "i * j :  3\n",
      "i * j :  6\n",
      "i * j :  9\n",
      "i * j :  12\n",
      "----------\n",
      "i :  4\n",
      "i * j :  0\n",
      "i * j :  4\n",
      "i * j :  8\n",
      "i * j :  12\n",
      "i * j :  16\n",
      "----------\n"
     ]
    }
   ],
   "source": [
    "for i in range(5):\n",
    "    print(\"i : \", i)\n",
    "    for j in range(5):\n",
    "        #print(\"j : \", j)\n",
    "        print(\"i * j : \", i* j)\n",
    "    print(\"-\"*10)   "
   ]
  },
  {
   "cell_type": "code",
   "execution_count": 27,
   "metadata": {},
   "outputs": [
    {
     "name": "stdout",
     "output_type": "stream",
     "text": [
      "코드 실행\n",
      "코드 실행\n",
      "코드 실행\n",
      "코드 실행\n",
      "코드 실행\n",
      "코드 실행\n",
      "코드 실행\n",
      "코드 실행\n",
      "코드 실행\n",
      "코드 실행\n",
      "코드 실행\n",
      "코드 실행\n",
      "코드 실행\n",
      "코드 실행\n",
      "코드 실행\n",
      "코드 실행\n",
      "코드 실행\n",
      "코드 실행\n",
      "코드 실행\n",
      "코드 실행\n",
      "코드 실행\n",
      "코드 실행\n",
      "코드 실행\n",
      "코드 실행\n",
      "코드 실행\n"
     ]
    }
   ],
   "source": [
    "for i in range(5):\n",
    "    for j in range(5):\n",
    "        print(\"코드 실행\")"
   ]
  },
  {
   "cell_type": "code",
   "execution_count": 29,
   "metadata": {},
   "outputs": [
    {
     "name": "stdout",
     "output_type": "stream",
     "text": [
      "(0, 'a')\n",
      "(1, 'b')\n",
      "(2, 'c')\n",
      "(3, 'd')\n"
     ]
    }
   ],
   "source": [
    "l1 = ['a', 'b', 'c', 'd']\n",
    "for i in enumerate(l1):\n",
    "    print(i)"
   ]
  },
  {
   "cell_type": "code",
   "execution_count": 30,
   "metadata": {},
   "outputs": [
    {
     "name": "stdout",
     "output_type": "stream",
     "text": [
      "10\n",
      "20\n"
     ]
    }
   ],
   "source": [
    "a, b =(10, 20)\n",
    "print(a)\n",
    "print(b)"
   ]
  },
  {
   "cell_type": "code",
   "execution_count": 32,
   "metadata": {},
   "outputs": [
    {
     "name": "stdout",
     "output_type": "stream",
     "text": [
      "0 a\n",
      "1 b\n",
      "2 c\n",
      "3 d\n"
     ]
    }
   ],
   "source": [
    "l1 = ['a', 'b', 'c', 'd']\n",
    "for idx, value in enumerate(l1):\n",
    "    print(idx,value)"
   ]
  },
  {
   "cell_type": "code",
   "execution_count": 37,
   "metadata": {},
   "outputs": [],
   "source": [
    "for idx, value in enumerate(l1):\n",
    "    if idx>=2:\n",
    "        l1[idx] = 0\n",
    "                "
   ]
  },
  {
   "cell_type": "code",
   "execution_count": 38,
   "metadata": {},
   "outputs": [
    {
     "data": {
      "text/plain": [
       "['a', 'b', 0, 0]"
      ]
     },
     "execution_count": 38,
     "metadata": {},
     "output_type": "execute_result"
    }
   ],
   "source": [
    "l1"
   ]
  },
  {
   "cell_type": "markdown",
   "metadata": {},
   "source": [
    "## 연습문제4."
   ]
  },
  {
   "cell_type": "code",
   "execution_count": 130,
   "metadata": {},
   "outputs": [
    {
     "name": "stdout",
     "output_type": "stream",
     "text": [
      "30\n",
      "60\n",
      "90\n",
      "200\n",
      "-70\n",
      "50\n"
     ]
    },
    {
     "data": {
      "text/plain": [
       "[30, 60, 90, 200, -70, 50]"
      ]
     },
     "execution_count": 130,
     "metadata": {},
     "output_type": "execute_result"
    }
   ],
   "source": [
    "x = [3, 6, 9, 20, -7, 5]\n",
    "\n",
    "for idx, value in enumerate(x):\n",
    "    x[idx] = value * 10\n",
    "    print(x[idx])\n",
    "x   "
   ]
  },
  {
   "cell_type": "code",
   "execution_count": 135,
   "metadata": {},
   "outputs": [
    {
     "data": {
      "text/plain": [
       "{'math': 80, 'science': 90, 'english': 30}"
      ]
     },
     "execution_count": 135,
     "metadata": {},
     "output_type": "execute_result"
    }
   ],
   "source": [
    "y = {\n",
    "    \"math\":70,\n",
    "   \"science\" : 80,\n",
    "    \"english\" : 20\n",
    "}\n",
    "\n",
    "for  key in y:\n",
    "         y[key] = y[key]+10\n",
    "        \n",
    "y"
   ]
  },
  {
   "cell_type": "code",
   "execution_count": 71,
   "metadata": {},
   "outputs": [
    {
     "name": "stdout",
     "output_type": "stream",
     "text": [
      "정수를 입력하세요. : 5\n",
      "5 * 1 = 5\n",
      "5 * 2 = 10\n",
      "5 * 3 = 15\n",
      "5 * 4 = 20\n",
      "5 * 5 = 25\n",
      "5 * 6 = 30\n",
      "5 * 7 = 35\n",
      "5 * 8 = 40\n",
      "5 * 9 = 45\n"
     ]
    }
   ],
   "source": [
    "num = int(input(\"정수를 입력하세요. : \"))\n",
    "\n",
    "for i in range(1,10,1):\n",
    "    print(str(num) +\" * \" + str(i) +\" = \" + str(i*num)  ) #print(\"{} * {} = {}\".format(num,i,num*i))"
   ]
  },
  {
   "cell_type": "code",
   "execution_count": 155,
   "metadata": {},
   "outputs": [
    {
     "ename": "SyntaxError",
     "evalue": "invalid syntax (<ipython-input-155-e68642ae2829>, line 5)",
     "output_type": "error",
     "traceback": [
      "\u001b[1;36m  File \u001b[1;32m\"<ipython-input-155-e68642ae2829>\"\u001b[1;36m, line \u001b[1;32m5\u001b[0m\n\u001b[1;33m    if !(len(i) >=6):\u001b[0m\n\u001b[1;37m       ^\u001b[0m\n\u001b[1;31mSyntaxError\u001b[0m\u001b[1;31m:\u001b[0m invalid syntax\n"
     ]
    }
   ],
   "source": [
    "word = [\"school\", \"game\", \"piano\", \"science\", \"hotel\", \"mountian\"]\n",
    "len1 = []\n",
    "\n",
    "for i in word:\n",
    "    if len(i) >=6:\n",
    "        len1.append(i)\n",
    "len1        "
   ]
  },
  {
   "cell_type": "code",
   "execution_count": 158,
   "metadata": {},
   "outputs": [
    {
     "name": "stdout",
     "output_type": "stream",
     "text": [
      "[1 단]\n",
      "1 * 1 = 1\n",
      "1 * 2 = 2\n",
      "1 * 3 = 3\n",
      "1 * 4 = 4\n",
      "1 * 5 = 5\n",
      "1 * 6 = 6\n",
      "1 * 7 = 7\n",
      "1 * 8 = 8\n",
      "1 * 9 = 9\n",
      "----------\n",
      "[2 단]\n",
      "2 * 1 = 2\n",
      "2 * 2 = 4\n",
      "2 * 3 = 6\n",
      "2 * 4 = 8\n",
      "2 * 5 = 10\n",
      "2 * 6 = 12\n",
      "2 * 7 = 14\n",
      "2 * 8 = 16\n",
      "2 * 9 = 18\n",
      "----------\n",
      "[3 단]\n",
      "3 * 1 = 3\n",
      "3 * 2 = 6\n",
      "3 * 3 = 9\n",
      "3 * 4 = 12\n",
      "3 * 5 = 15\n",
      "3 * 6 = 18\n",
      "3 * 7 = 21\n",
      "3 * 8 = 24\n",
      "3 * 9 = 27\n",
      "----------\n",
      "[4 단]\n",
      "4 * 1 = 4\n",
      "4 * 2 = 8\n",
      "4 * 3 = 12\n",
      "4 * 4 = 16\n",
      "4 * 5 = 20\n",
      "4 * 6 = 24\n",
      "4 * 7 = 28\n",
      "4 * 8 = 32\n",
      "4 * 9 = 36\n",
      "----------\n",
      "[5 단]\n",
      "5 * 1 = 5\n",
      "5 * 2 = 10\n",
      "5 * 3 = 15\n",
      "5 * 4 = 20\n",
      "5 * 5 = 25\n",
      "5 * 6 = 30\n",
      "5 * 7 = 35\n",
      "5 * 8 = 40\n",
      "5 * 9 = 45\n",
      "----------\n",
      "[6 단]\n",
      "6 * 1 = 6\n",
      "6 * 2 = 12\n",
      "6 * 3 = 18\n",
      "6 * 4 = 24\n",
      "6 * 5 = 30\n",
      "6 * 6 = 36\n",
      "6 * 7 = 42\n",
      "6 * 8 = 48\n",
      "6 * 9 = 54\n",
      "----------\n",
      "[7 단]\n",
      "7 * 1 = 7\n",
      "7 * 2 = 14\n",
      "7 * 3 = 21\n",
      "7 * 4 = 28\n",
      "7 * 5 = 35\n",
      "7 * 6 = 42\n",
      "7 * 7 = 49\n",
      "7 * 8 = 56\n",
      "7 * 9 = 63\n",
      "----------\n",
      "[8 단]\n",
      "8 * 1 = 8\n",
      "8 * 2 = 16\n",
      "8 * 3 = 24\n",
      "8 * 4 = 32\n",
      "8 * 5 = 40\n",
      "8 * 6 = 48\n",
      "8 * 7 = 56\n",
      "8 * 8 = 64\n",
      "8 * 9 = 72\n",
      "----------\n",
      "[9 단]\n",
      "9 * 1 = 9\n",
      "9 * 2 = 18\n",
      "9 * 3 = 27\n",
      "9 * 4 = 36\n",
      "9 * 5 = 45\n",
      "9 * 6 = 54\n",
      "9 * 7 = 63\n",
      "9 * 8 = 72\n",
      "9 * 9 = 81\n",
      "----------\n"
     ]
    }
   ],
   "source": [
    "for i in range(1,10,1):\n",
    "    print(\"[%s 단]\" % i)\n",
    "    for j in range(1,10,1):\n",
    "        print(\"{} * {} = {}\".format( i, j ,i*j))\n",
    "    print(\"-\"*10)   "
   ]
  },
  {
   "cell_type": "code",
   "execution_count": 153,
   "metadata": {},
   "outputs": [
    {
     "name": "stdout",
     "output_type": "stream",
     "text": [
      "정수를 입력하시오. : 20\n",
      "1\n",
      "2\n",
      "3는 3의 공배수\n",
      "4\n",
      "5는 5의 공배수\n",
      "6는 3의 공배수\n",
      "7\n",
      "8\n",
      "9는 3의 공배수\n",
      "10는 5의 공배수\n",
      "11\n",
      "12는 3의 공배수\n",
      "13\n",
      "14\n",
      "15는 3과 5의 공배수\n",
      "16\n",
      "17\n",
      "18는 3의 공배수\n",
      "19\n",
      "20는 5의 공배수\n"
     ]
    }
   ],
   "source": [
    "num = int(input(\"정수를 입력하시오. : \"))\n",
    "\n",
    "for i in range(1,num+1,1):\n",
    "    if (i % 3 ==0) and (i % 5 == 0):\n",
    "        print(\"{}는 3과 5의 공배수\".format(i))\n",
    "    elif  i % 3 ==0:\n",
    "         print(\"{}는 3의 공배수\".format(i))\n",
    "    elif  i % 5 ==0:\n",
    "         print(\"{}는 5의 공배수\".format(i))\n",
    "    else:\n",
    "        print(i)\n",
    "        "
   ]
  },
  {
   "cell_type": "code",
   "execution_count": 159,
   "metadata": {},
   "outputs": [
    {
     "name": "stdout",
     "output_type": "stream",
     "text": [
      "i:  0\n",
      "i:  1\n",
      "i:  2\n",
      "i:  3\n",
      "i:  4\n"
     ]
    }
   ],
   "source": [
    "i = 0\n",
    "while i<5:\n",
    "    print(\"i: \", i)\n",
    "    i = i + 1"
   ]
  },
  {
   "cell_type": "code",
   "execution_count": 160,
   "metadata": {},
   "outputs": [
    {
     "data": {
      "text/plain": [
       "5"
      ]
     },
     "execution_count": 160,
     "metadata": {},
     "output_type": "execute_result"
    }
   ],
   "source": [
    "i"
   ]
  },
  {
   "cell_type": "code",
   "execution_count": null,
   "metadata": {},
   "outputs": [],
   "source": [
    "i = input(\"s가 입력되면 멈춥니다.\")\n",
    "while i.upper() != 'S': # 대소문자 구분 없게 하기 위해\n",
    "    print(\"프로세스 동작중\")\n",
    "    i = input(\"s가 입력되면 멈춥니다.\")"
   ]
  },
  {
   "cell_type": "markdown",
   "metadata": {},
   "source": [
    "### 사용자부터 숫자를 계속 입력받다가  or S 를 입력하면 합계출력\n"
   ]
  },
  {
   "cell_type": "code",
   "execution_count": 5,
   "metadata": {},
   "outputs": [
    {
     "name": "stdout",
     "output_type": "stream",
     "text": [
      "숫자입력 : 8\n",
      "숫자입력 : 12\n",
      "숫자입력 : 87\n",
      "숫자입력 : S\n"
     ]
    },
    {
     "data": {
      "text/plain": [
       "107"
      ]
     },
     "execution_count": 5,
     "metadata": {},
     "output_type": "execute_result"
    }
   ],
   "source": [
    "num = input(\"숫자입력 : \")\n",
    "\n",
    "result =0\n",
    "\n",
    "while num.lower() !='s':\n",
    "    result += int(num);\n",
    "    num = input(\"숫자입력 : \")\n",
    "\n",
    "result    "
   ]
  },
  {
   "cell_type": "markdown",
   "metadata": {},
   "source": [
    "### 가위바위보 게임만들기"
   ]
  },
  {
   "cell_type": "code",
   "execution_count": 24,
   "metadata": {},
   "outputs": [
    {
     "name": "stdout",
     "output_type": "stream",
     "text": [
      "가위(1), 바위(2), 보(3)을 입력해주세요! : 1\n",
      "유저: 가위, 컴퓨터: 보\n",
      "가위(1), 바위(2), 보(3)을 입력해주세요! : 3\n",
      "유저: 보, 컴퓨터: 가위\n",
      "가위(1), 바위(2), 보(3)을 입력해주세요! : 2\n",
      "유저: 바위, 컴퓨터: 바위\n",
      "가위(1), 바위(2), 보(3)을 입력해주세요! : 1\n",
      "유저: 가위, 컴퓨터: 가위\n",
      "가위(1), 바위(2), 보(3)을 입력해주세요! : 1\n",
      "유저: 가위, 컴퓨터: 가위\n",
      "가위(1), 바위(2), 보(3)을 입력해주세요! : 2\n",
      "유저: 바위, 컴퓨터: 보\n",
      "가위(1), 바위(2), 보(3)을 입력해주세요! : 5\n",
      "\n",
      "\n",
      "전체 : 6, 승리 :1, 비김: 3\n"
     ]
    }
   ],
   "source": [
    "import random\n",
    "\n",
    "total =0\n",
    "user =0\n",
    "same = 0\n",
    "\n",
    "\n",
    "while(True):\n",
    "    res = input(\"가위(1), 바위(2), 보(3)을 입력해주세요! : \")\n",
    "    ran = random.randint(1,3)\n",
    "    \n",
    "    if int(res) ==1:\n",
    "        total+=1\n",
    "        \n",
    "        if ran ==2 :\n",
    "            print(\"유저: 가위, 컴퓨터: 바위\")\n",
    "        elif ran == 3:\n",
    "            user+=1\n",
    "            print(\"유저: 가위, 컴퓨터: 보\")\n",
    "        else:\n",
    "            same+=1\n",
    "            print(\"유저: 가위, 컴퓨터: 가위\")\n",
    "    elif int(res) ==2:\n",
    "        total+=1          \n",
    "        if ran == 3 :\n",
    "            print(\"유저: 바위, 컴퓨터: 보\")\n",
    "        elif ran == 1:\n",
    "            user+=1\n",
    "            print(\"유저: 바위, 컴퓨터: 가위\")\n",
    "        else:\n",
    "            same+=1\n",
    "            print(\"유저: 바위, 컴퓨터: 바위\") \n",
    "    elif int(res) ==3:\n",
    "        total+=1\n",
    "            \n",
    "        if ran ==1 :\n",
    "            print(\"유저: 보, 컴퓨터: 가위\")\n",
    "        elif ran == 2:\n",
    "            user+=1\n",
    "            print(\"유저: 보, 컴퓨터: 바위\")\n",
    "        else:\n",
    "            same+=1\n",
    "            print(\"유저: 보, 컴퓨터: 보\")\n",
    "    else:\n",
    "        break;\n",
    "print(\"\\n\")        \n",
    "print(\"전체 : {}, 승리 :{}, 비김: {}\".format(total,user,same))        "
   ]
  },
  {
   "cell_type": "code",
   "execution_count": 31,
   "metadata": {},
   "outputs": [
    {
     "name": "stdout",
     "output_type": "stream",
     "text": [
      "가위(1), 바위(2), 보(3)을 입력해주세요! : 2\n",
      "유저 : 바위, 컴퓨터 : 보\n",
      "가위(1), 바위(2), 보(3)을 입력해주세요! : 1\n",
      "게임종료(전체:1, 승리:0, 비김:0)\n"
     ]
    }
   ],
   "source": [
    "## 다른 코드\n",
    "\n",
    "user = int(input(\"가위(1), 바위(2), 보(3)을 입력해주세요! : \"))\n",
    "com = random.randint(1,3)\n",
    "\n",
    "rsp_list =[None, \"가위\", \"바위\", \"보\"]\n",
    "\n",
    "\n",
    "total = 0\n",
    "win = 0\n",
    "draw = 0\n",
    "\n",
    "while user  in [1,2,3]:\n",
    "    print(\"유저 : {}, 컴퓨터 : {}\".format(rsp_list[user], rsp_list[com])) \n",
    "    \n",
    "    ##비긴경우\n",
    "    if(user == com):\n",
    "        draw+=1\n",
    "        pass\n",
    "        \n",
    "    ##이긴경우\n",
    "    elif (user == 1 and com == 3) or (user == 2 and com == 1) or (user == 3 and com == 2):\n",
    "        win+=1\n",
    "        pass\n",
    "    \n",
    "    ##진경우 => 전체 - (승리 + 비김)\n",
    "    total+=1\n",
    "    \n",
    "    user = input(\"가위(1), 바위(2), 보(3)을 입력해주세요! : \")\n",
    "    com = random.randint(1,3)\n",
    "    \n",
    "    \n",
    "print(\"게임종료(전체:{}, 승리:{}, 비김:{})\".format(total,win,draw))    "
   ]
  },
  {
   "cell_type": "markdown",
   "metadata": {},
   "source": [
    "# Break, Continue"
   ]
  },
  {
   "cell_type": "code",
   "execution_count": 32,
   "metadata": {},
   "outputs": [
    {
     "name": "stdout",
     "output_type": "stream",
     "text": [
      "0\n",
      "1\n",
      "2\n"
     ]
    }
   ],
   "source": [
    "for i in range(5):\n",
    "    if i == 3:\n",
    "        break\n",
    "    print(i)    "
   ]
  },
  {
   "cell_type": "code",
   "execution_count": 34,
   "metadata": {},
   "outputs": [
    {
     "name": "stdout",
     "output_type": "stream",
     "text": [
      "0\n",
      "1\n",
      "2\n",
      "3\n",
      "4\n",
      "5\n",
      "9\n"
     ]
    }
   ],
   "source": [
    "for i in range(10):\n",
    "    if 5<i<=8:\n",
    "        continue\n",
    "    print(i)    "
   ]
  },
  {
   "cell_type": "code",
   "execution_count": 38,
   "metadata": {
    "scrolled": true
   },
   "outputs": [
    {
     "name": "stdout",
     "output_type": "stream",
     "text": [
      "Hello\n",
      "s입력시 멈춥니다.s\n"
     ]
    }
   ],
   "source": [
    "while True:\n",
    "    print(\"Hello\")\n",
    "    num = input(\"s 입력시 멈춥니다.\")\n",
    "    \n",
    "    if num.lower() == 's':\n",
    "        break;"
   ]
  },
  {
   "cell_type": "markdown",
   "metadata": {},
   "source": [
    "### (1) while 문과 break 문을 사용하여 사용자가 입력한 숫자만큼 반복하여 ‘hi’ 출력하기\n",
    "\n",
    "### (2) for 문과 continue 문을 사용하여 사용자가 입력한 숫자까지의 짝수를 출력하기\n"
   ]
  },
  {
   "cell_type": "code",
   "execution_count": 43,
   "metadata": {},
   "outputs": [
    {
     "name": "stdout",
     "output_type": "stream",
     "text": [
      "정수를 입력해주세요 : 6\n",
      "hi\n",
      "hi\n",
      "hi\n",
      "hi\n",
      "hi\n",
      "hi\n"
     ]
    }
   ],
   "source": [
    "num = input(\"정수를 입력해주세요 : \")\n",
    "i = 0;\n",
    "\n",
    "while True:\n",
    "    print(\"hi\")\n",
    "    i+=1\n",
    "    if i == int(num):\n",
    "        break"
   ]
  },
  {
   "cell_type": "code",
   "execution_count": 55,
   "metadata": {},
   "outputs": [
    {
     "name": "stdout",
     "output_type": "stream",
     "text": [
      "정수를 입력해주세요 : 5\n",
      "0\n",
      "2\n",
      "4\n"
     ]
    }
   ],
   "source": [
    "num = int(input(\"정수를 입력해주세요 : \"))\n",
    "\n",
    "for i in range(num):\n",
    "    \n",
    "    if not i% 2 == 0:\n",
    "         continue\n",
    "        \n",
    "    print(i)       "
   ]
  },
  {
   "cell_type": "markdown",
   "metadata": {},
   "source": [
    "### randint함수를 사용하여 정수(1~1000)로 이루어진 길이가 100개인 리스트 a를 만들고 \n",
    "### 가장 큰 수를 구하는 코드를 작성하시오.\n",
    "\n",
    "예) a=[32, 45, 2, 5, 76] 일때, 출력결과는 76이 나와야 함.\n"
   ]
  },
  {
   "cell_type": "code",
   "execution_count": 69,
   "metadata": {},
   "outputs": [
    {
     "name": "stdout",
     "output_type": "stream",
     "text": [
      "[837, 442, 321, 203, 189, 191, 944, 949, 442, 221, 1000, 897, 372, 471, 141, 147, 162, 156, 781, 787, 582, 1, 745, 299, 980, 809, 381, 900, 102, 256, 673, 834, 785, 587, 973, 865, 962, 698, 468, 331, 785, 901, 586, 425, 497, 841, 375, 857, 595, 318, 810, 858, 211, 139, 438, 285, 980, 999, 693, 787, 378, 119, 530, 476, 958, 741, 905, 551, 298, 46, 280, 948, 492, 500, 565, 253, 744, 751, 112, 540, 487, 408, 75, 262, 692, 236, 193, 705, 323, 302, 120, 346, 504, 274, 170, 967, 476, 858, 5, 12]\n",
      "\n",
      "\n",
      "최대값 :1000\n",
      "합계 : 51866\n"
     ]
    }
   ],
   "source": [
    "import random\n",
    "\n",
    "li1=[]\n",
    "for i in range(100):\n",
    "    li1.append(random.randint(1,1000))\n",
    "\n",
    "print(li1) \n",
    "print(\"\\n\")\n",
    "\n",
    "print(\"최대값 :\"+ str(max(li1)))\n",
    "\n",
    "print(\"합계 : \" +  str(sum(li1)))\n"
   ]
  },
  {
   "cell_type": "code",
   "execution_count": 71,
   "metadata": {},
   "outputs": [
    {
     "name": "stdout",
     "output_type": "stream",
     "text": [
      "[503, 111, 371, 645, 417, 408, 582, 43, 351, 616, 716, 740, 468, 939, 632, 53, 645, 461, 55, 504, 405, 995, 893, 516, 730, 37, 137, 151, 737, 838, 544, 642, 569, 181, 532, 654, 191, 453, 211, 860, 347, 835, 282, 371, 574, 682, 238, 855, 856, 183, 696, 8, 136, 299, 201, 309, 984, 357, 842, 591, 271, 643, 225, 804, 344, 629, 664, 390, 160, 487, 250, 451, 397, 573, 647, 573, 263, 690, 892, 9, 616, 40, 545, 457, 881, 493, 766, 43, 544, 327, 668, 471, 55, 754, 474, 148, 549, 940, 776, 371]\n",
      "995\n",
      "48462\n"
     ]
    }
   ],
   "source": [
    "# 다른코드\n",
    "li1=[]\n",
    "max_num = 0\n",
    "sum_num =0;\n",
    "for i in range(100):\n",
    "    rend_num = random.randint(1,1000)\n",
    "    li1.append(rend_num)\n",
    "    sum_num+=rend_num\n",
    "    \n",
    "    if max_num < rend_num:\n",
    "        max_num = rend_num\n",
    "\n",
    "print(li1) \n",
    "print(max_num) \n",
    "print(sum_num)  "
   ]
  },
  {
   "cell_type": "markdown",
   "metadata": {},
   "source": [
    "# 리스트 컴프리핸션"
   ]
  },
  {
   "cell_type": "code",
   "execution_count": 72,
   "metadata": {},
   "outputs": [
    {
     "data": {
      "text/plain": [
       "[1, 2, 3, 4]"
      ]
     },
     "execution_count": 72,
     "metadata": {},
     "output_type": "execute_result"
    }
   ],
   "source": [
    "list(range(1,5))"
   ]
  },
  {
   "cell_type": "code",
   "execution_count": 73,
   "metadata": {},
   "outputs": [
    {
     "data": {
      "text/plain": [
       "[10, 20, 30, 40]"
      ]
     },
     "execution_count": 73,
     "metadata": {},
     "output_type": "execute_result"
    }
   ],
   "source": [
    "# 1. range\n",
    "list(range(10,50,10))"
   ]
  },
  {
   "cell_type": "code",
   "execution_count": 76,
   "metadata": {},
   "outputs": [
    {
     "data": {
      "text/plain": [
       "[10, 20, 30, 40]"
      ]
     },
     "execution_count": 76,
     "metadata": {},
     "output_type": "execute_result"
    }
   ],
   "source": [
    "new_list = []\n",
    "for i in range(1,5):\n",
    "    new_list.append(i * 10)\n",
    "new_list    "
   ]
  },
  {
   "cell_type": "code",
   "execution_count": 80,
   "metadata": {},
   "outputs": [
    {
     "data": {
      "text/plain": [
       "[17.5, 27.5, 37.5, 47.5]"
      ]
     },
     "execution_count": 80,
     "metadata": {},
     "output_type": "execute_result"
    }
   ],
   "source": [
    "new_list = [i*10 + 7.5 for i in range(1,5,1)]\n",
    "new_list"
   ]
  },
  {
   "cell_type": "code",
   "execution_count": 87,
   "metadata": {},
   "outputs": [
    {
     "name": "stdout",
     "output_type": "stream",
     "text": [
      "[3, 6, 9, 12, 15, 18, 21, 24, 27, 30, 33, 36, 39, 42, 45, 48, 51, 54, 57, 60, 63, 66, 69, 72, 75, 78, 81, 84, 87, 90, 93, 96, 99]\n"
     ]
    }
   ],
   "source": [
    "# 1부터 100까지의 숫자 중에서 3의 배수만 모아서 새로운 리스트를 만드시오\n",
    "new_list2 = [i for i in range(1,101,1) if i% 3==0]\n",
    "\n",
    "print(new_list2)"
   ]
  },
  {
   "cell_type": "code",
   "execution_count": 91,
   "metadata": {},
   "outputs": [
    {
     "name": "stdout",
     "output_type": "stream",
     "text": [
      "[1, 2, 3, 4, 5, 6, 7, 8, 9, 10, 2, 4, 6, 8, 10, 12, 14, 16, 18, 20, 3, 6, 9, 12, 15, 18, 21, 24, 27, 30, 4, 8, 12, 16, 20, 24, 28, 32, 36, 40, 5, 10, 15, 20, 25, 30, 35, 40, 45, 50, 6, 12, 18, 24, 30, 36, 42, 48, 54, 60, 7, 14, 21, 28, 35, 42, 49, 56, 63, 70, 8, 16, 24, 32, 40, 48, 56, 64, 72, 80, 9, 18, 27, 36, 45, 54, 63, 72, 81, 90, 10, 20, 30, 40, 50, 60, 70, 80, 90, 100]\n"
     ]
    }
   ],
   "source": [
    "new_list3 = [i*j for j in range(1,11) for i in range(1,11)]\n",
    "print(new_list3)"
   ]
  },
  {
   "cell_type": "code",
   "execution_count": 95,
   "metadata": {},
   "outputs": [
    {
     "data": {
      "text/plain": [
       "{'city': 'Seoul', 'name': '신윤수', 'height': 160}"
      ]
     },
     "execution_count": 95,
     "metadata": {},
     "output_type": "execute_result"
    }
   ],
   "source": [
    "keys =['city','name','height']\n",
    "value =['Seoul','신윤수',160]\n",
    "\n",
    "new_dict = {keys[i]: value[i] for i in range(len(keys))}\n",
    "\n",
    "new_dict"
   ]
  },
  {
   "cell_type": "markdown",
   "metadata": {},
   "source": [
    "# Zip"
   ]
  },
  {
   "cell_type": "code",
   "execution_count": 96,
   "metadata": {},
   "outputs": [
    {
     "name": "stdout",
     "output_type": "stream",
     "text": [
      "city Seoul\n",
      "name 신윤수\n",
      "height 160\n"
     ]
    }
   ],
   "source": [
    "for i in range(len(keys)):\n",
    "    k = keys[i]\n",
    "    v = value[i]\n",
    "    print(k,v)"
   ]
  },
  {
   "cell_type": "code",
   "execution_count": 97,
   "metadata": {},
   "outputs": [
    {
     "data": {
      "text/plain": [
       "[('city', 'Seoul'), ('name', '신윤수'), ('height', 160)]"
      ]
     },
     "execution_count": 97,
     "metadata": {},
     "output_type": "execute_result"
    }
   ],
   "source": [
    "list(zip(keys, value))"
   ]
  },
  {
   "cell_type": "code",
   "execution_count": 98,
   "metadata": {},
   "outputs": [
    {
     "name": "stdout",
     "output_type": "stream",
     "text": [
      "city Seoul\n",
      "name 신윤수\n",
      "height 160\n"
     ]
    }
   ],
   "source": [
    "for k, v in zip(keys, value):\n",
    "    print(k,v)"
   ]
  },
  {
   "cell_type": "code",
   "execution_count": 99,
   "metadata": {},
   "outputs": [
    {
     "data": {
      "text/plain": [
       "{'city': 'Seoul', 'name': '신윤수', 'height': 160}"
      ]
     },
     "execution_count": 99,
     "metadata": {},
     "output_type": "execute_result"
    }
   ],
   "source": [
    "dict(zip(keys, value))"
   ]
  },
  {
   "cell_type": "markdown",
   "metadata": {},
   "source": [
    "### (1) word = [“school”, “game”, “piano”, “science”, “hotel”, “mountn”] 중 글자수가 6글자 이상인 문자를 모아 새로운 리스트를 생성하세요\n",
    "(리스트 컴프리핸션을 사용해주세요)\n",
    "### (2) word = [“school”, “game”, “piano”, “science”, “hotel”, “mountian”] 리스트의 글자수가 들어가있는 새로운 리스트를 생성하세요\n",
    "(리스트 컴프리핸션을 사용해주세요)\n"
   ]
  },
  {
   "cell_type": "code",
   "execution_count": 102,
   "metadata": {},
   "outputs": [
    {
     "name": "stdout",
     "output_type": "stream",
     "text": [
      "['school', 'science', 'mountn']\n"
     ]
    }
   ],
   "source": [
    "word =[\"school\", \"game\", \"piano\", \"science\", \"hotel\", \"mountn\"]\n",
    "\n",
    "new_list4 = [word[i] for i in range(len(word)) if len(word[i]) >=6]\n",
    "\n",
    "print(new_list4)"
   ]
  },
  {
   "cell_type": "code",
   "execution_count": 105,
   "metadata": {},
   "outputs": [
    {
     "name": "stdout",
     "output_type": "stream",
     "text": [
      "[6, 4, 5, 7, 5, 6]\n"
     ]
    }
   ],
   "source": [
    "word =[\"school\", \"game\", \"piano\", \"science\", \"hotel\", \"mountn\"]\n",
    "\n",
    "new_list5 = [len(word[i]) for i in range(len(word))]\n",
    "\n",
    "print(new_list5)"
   ]
  },
  {
   "cell_type": "markdown",
   "metadata": {},
   "source": [
    "### (1) 아래 두 리스트를 각 요소들을 곱해 새로운 리스트 C 를 만드세요\n",
    "a = [[10, 20], [30, 40], [50, 60]]\n",
    "b = [[2, 3], [4, 5], [6, 7]]\n"
   ]
  },
  {
   "cell_type": "code",
   "execution_count": 182,
   "metadata": {},
   "outputs": [
    {
     "name": "stdout",
     "output_type": "stream",
     "text": [
      "[[20, 60], [40, 100], [60, 140], [60, 120], [120, 200], [180, 280], [100, 180], [200, 300], [300, 420]]\n"
     ]
    }
   ],
   "source": [
    "a = [[10, 20], [30, 40], [50, 60]] \n",
    "b = [[2, 3], [4, 5], [6, 7]]\n",
    "\n",
    "c=[]\n",
    "\n",
    "for i,j in a:\n",
    "    for x,y in b:\n",
    "        c.append([i*x, j*y])\n",
    "\n",
    "print(c)"
   ]
  },
  {
   "cell_type": "code",
   "execution_count": 186,
   "metadata": {},
   "outputs": [
    {
     "data": {
      "text/plain": [
       "[[20, 60], [120, 200], [300, 420]]"
      ]
     },
     "execution_count": 186,
     "metadata": {},
     "output_type": "execute_result"
    }
   ],
   "source": [
    "new_list=[]\n",
    "for [a1,a2],[b1,b2] in zip(a,b):\n",
    "    new_list.append([a1*b1, a2*b2])\n",
    "    \n",
    "new_list"
   ]
  },
  {
   "cell_type": "markdown",
   "metadata": {},
   "source": [
    "### (1) 아래의 학습코드를 가지고 a 리스트가 [[1,2],[3,4],[5,6]] 와 같이 만들어지도록 수정하세요\n",
    ">>> a = []\n",
    ">>> for i in range(3):\n",
    ">>>     line = []\n",
    ">>>     for j in range(2):\n",
    ">>>        line.append(0)\n",
    ">>>     a.append(line)\n",
    ">>> print(a)\n"
   ]
  },
  {
   "cell_type": "code",
   "execution_count": 175,
   "metadata": {},
   "outputs": [
    {
     "name": "stdout",
     "output_type": "stream",
     "text": [
      "[[1, 2], [3, 4], [5, 6]]\n"
     ]
    }
   ],
   "source": [
    "a = []\n",
    "for i in range(3):\n",
    "    line = []\n",
    "    for j in range(2):\n",
    "        line.append((i*2+1)+j)\n",
    "    a.append(line)\n",
    "print(a)\n"
   ]
  },
  {
   "cell_type": "code",
   "execution_count": null,
   "metadata": {},
   "outputs": [],
   "source": []
  },
  {
   "cell_type": "code",
   "execution_count": null,
   "metadata": {},
   "outputs": [],
   "source": []
  }
 ],
 "metadata": {
  "kernelspec": {
   "display_name": "Python 3",
   "language": "python",
   "name": "python3"
  },
  "language_info": {
   "codemirror_mode": {
    "name": "ipython",
    "version": 3
   },
   "file_extension": ".py",
   "mimetype": "text/x-python",
   "name": "python",
   "nbconvert_exporter": "python",
   "pygments_lexer": "ipython3",
   "version": "3.7.3"
  }
 },
 "nbformat": 4,
 "nbformat_minor": 4
}

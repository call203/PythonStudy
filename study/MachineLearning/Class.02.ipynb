{
 "cells": [
  {
   "cell_type": "markdown",
   "metadata": {},
   "source": [
    "## 선형회귀"
   ]
  },
  {
   "cell_type": "markdown",
   "metadata": {},
   "source": [
    "`````\n",
    "    최소 제곱법 : y = ax+ b에서 기울기 a를 구하는 방법이다.\n",
    "    \n",
    "    a = (x - x평균)(y-평균)의 합/(x -x평균)^2의 합\n",
    "    b = y의 평균 - (x의 평균 * 기울기 a)\n",
    "`````"
   ]
  },
  {
   "cell_type": "code",
   "execution_count": 6,
   "metadata": {},
   "outputs": [],
   "source": [
    "import numpy as np"
   ]
  },
  {
   "cell_type": "code",
   "execution_count": 7,
   "metadata": {},
   "outputs": [
    {
     "name": "stdout",
     "output_type": "stream",
     "text": [
      "0.176 -0.034\n",
      "15주후:2.606, 22주후:3.838,77주후:13.517999999999999,200주후:35.166\n",
      "\n",
      "\n",
      "예상값:0.8459999999999999, 실제값:0.95 차이:-0.10400000000000009 : \n",
      "\n",
      "\n"
     ]
    }
   ],
   "source": [
    "def top(x, x_avg, y, y_avg):\n",
    "    d = 0\n",
    "    for i in range(len(x)):\n",
    "        d+=(x[i] - x_avg) * (y[i] - y_avg)\n",
    "    return d\n",
    "        \n",
    "\n",
    "x = [1,2,3,4,5,6,7,8]\n",
    "y = [0.2, 0.3, 0.5, 0.6, 0.9, 0.95,1.1,1.5]\n",
    "\n",
    "x_avg = np.mean(x)\n",
    "y_avg = np.mean(y)\n",
    "\n",
    "\n",
    "#분자\n",
    "top_num = top(x,x_avg, y, y_avg)\n",
    "sum_x=[]\n",
    "#분모\n",
    "for i in x:\n",
    "     sum_x = (x - x_avg)**2\n",
    "        \n",
    "        \n",
    "                \n",
    "a = top_num/sum(sum_x)  \n",
    "b = y_avg - (x_avg * a)\n",
    "a = round(a,3)\n",
    "b = round(b,3)\n",
    "print(a,b)\n",
    "\n",
    "\n",
    "#1번\n",
    "y1 = a*15 +b\n",
    "y2 = a*22 +b\n",
    "y3 = a*77 +b\n",
    "y4 = a*200 +b\n",
    "print(\"15주후:{}, 22주후:{},77주후:{},200주후:{}\".format(y1,y2,y3,y4))\n",
    "print(\"\\n\")\n",
    "\n",
    "#2번\n",
    "y5 = y1 = a*5 +b\n",
    "print(\"예상값:{}, 실제값:{} 차이:{} : \".format(y5,y[5],y5-y[5]))\n",
    "print(\"\\n\")\n",
    "\n",
    "#3번\n",
    "\n",
    "\n"
   ]
  },
  {
   "cell_type": "markdown",
   "metadata": {},
   "source": [
    "### 오차 예측"
   ]
  },
  {
   "cell_type": "markdown",
   "metadata": {},
   "source": [
    "```\n",
    "평균 제곱근 오차 : 계산 결과가 가작 작은 선을 찾는 작업\n",
    "\n",
    "즉, 선형회귀란 임의의 직선을 그어 이에 대한 평균 제곱근 오차를 구하고 이 값을 가장 작게 만들어 주는 x와 b값을 찾아가는 과정이다.\n",
    "\n",
    "```"
   ]
  },
  {
   "cell_type": "code",
   "execution_count": 8,
   "metadata": {},
   "outputs": [
    {
     "name": "stdout",
     "output_type": "stream",
     "text": [
      "오차율: 3.317\n"
     ]
    }
   ],
   "source": [
    "# a = 3, b=76으로 가정\n",
    "import math\n",
    "\n",
    "x =[2,4,6,8]\n",
    "y = [81,93,91,97]\n",
    "\n",
    "temp_li=[]\n",
    "\n",
    "temp_li =[3*i + 76  for i in x]\n",
    "\n",
    "temp_li =sum([ (y-p)**2 for y,p in zip(y,temp_li)])\n",
    "print(\"오차율: {}\".format(round(math.sqrt(temp_li/len(y)),3)))\n"
   ]
  },
  {
   "cell_type": "markdown",
   "metadata": {},
   "source": [
    "## 텐서플로우 행렬"
   ]
  },
  {
   "cell_type": "code",
   "execution_count": 9,
   "metadata": {},
   "outputs": [],
   "source": [
    "#version 1\n",
    "import tensorflow as tf"
   ]
  },
  {
   "cell_type": "code",
   "execution_count": 10,
   "metadata": {
    "scrolled": false
   },
   "outputs": [
    {
     "name": "stdout",
     "output_type": "stream",
     "text": [
      "(1, 3)\n",
      "(3, 1)\n",
      "(1, 1)\n",
      "Tensor(\"MatMul:0\", shape=(1, 1), dtype=float32)\n"
     ]
    }
   ],
   "source": [
    "# constant -->상수를 만드는 메소드\n",
    "x = tf.constant([[1.0,2.0,3.0]])\n",
    "w = tf.constant([[2.0],[2.0],[2.0]])\n",
    "\n",
    "# matul --> *\n",
    "y = tf.matmul(x,w)\n",
    "print(x.get_shape())\n",
    "print(w.get_shape())\n",
    "print(y.get_shape())\n",
    "print(y)\n",
    "\n",
    "sess = tf.Session()\n",
    "init = tf.global_variables_initializer()\n",
    "sess.run(init)\n",
    "sess.run(y)\n",
    "result = sess.run(y)"
   ]
  },
  {
   "cell_type": "markdown",
   "metadata": {},
   "source": [
    "```\n",
    "    1.목표 :오차가 가장 작은 점을 찾는것.\n",
    "      미분 비울기를 이용해 오차를 비교하여 가장 작은 방향으로 이동 : '경사 하강법'\n",
    "      \n",
    "    2. 미분의 개념 : x 변화량에 따른 y의 변화량. 즉, 한점에서의 기울기. \n",
    "       \n",
    "     => 순간 기울기가 0인 점이 오차가 가장 작음.  \n",
    "     \n",
    "     주의! learning rate(학습률 : 어느만큼 이동시킬지 정해주는 것)가 크면 한 점으로 모이지 않고 위로 치솟아 버림. \n",
    "```"
   ]
  },
  {
   "cell_type": "markdown",
   "metadata": {},
   "source": [
    "## 텐서플로우 경사 하강법"
   ]
  },
  {
   "cell_type": "markdown",
   "metadata": {},
   "source": [
    "```\n",
    "     텐서플로우는 텐서를 흘려 보내면서 데이터를 처리하는 라이브러리\n",
    "     텐서플로우는 텐서(내부 데이터)를 다차원 어레이로 일반화시킨다.\n",
    "```    "
   ]
  },
  {
   "cell_type": "code",
   "execution_count": 11,
   "metadata": {},
   "outputs": [
    {
     "name": "stdout",
     "output_type": "stream",
     "text": [
      "10.5\n"
     ]
    }
   ],
   "source": [
    "a = tf.constant(7.0, name='data1')\n",
    "b = tf.constant(3.0, name='data2')\n",
    "c = tf.constant(2.0, name='data3')\n",
    "\n",
    "v = a * b/ c\n",
    "\n",
    "with tf.Session() as sess:\n",
    "    sess.run(tf.global_variables_initializer())\n",
    "    print(sess.run(v))"
   ]
  },
  {
   "cell_type": "code",
   "execution_count": 12,
   "metadata": {},
   "outputs": [
    {
     "data": {
      "text/plain": [
       "[<tf.Operation 'Variable/initial_value' type=Const>,\n",
       " <tf.Operation 'Variable' type=VariableV2>,\n",
       " <tf.Operation 'Variable/Assign' type=Assign>,\n",
       " <tf.Operation 'Variable/read' type=Identity>,\n",
       " <tf.Operation 'Assign/value' type=Const>,\n",
       " <tf.Operation 'Assign' type=Assign>,\n",
       " <tf.Operation 'Variable_1/initial_value' type=Const>,\n",
       " <tf.Operation 'Variable_1' type=VariableV2>,\n",
       " <tf.Operation 'Variable_1/Assign' type=Assign>,\n",
       " <tf.Operation 'Variable_1/read' type=Identity>,\n",
       " <tf.Operation 'Assign_1/value' type=Const>,\n",
       " <tf.Operation 'Assign_1' type=Assign>,\n",
       " <tf.Operation 'init' type=NoOp>,\n",
       " <tf.Operation 'Variable_2/initial_value' type=Const>,\n",
       " <tf.Operation 'Variable_2' type=VariableV2>,\n",
       " <tf.Operation 'Variable_2/Assign' type=Assign>,\n",
       " <tf.Operation 'Variable_2/read' type=Identity>,\n",
       " <tf.Operation 'Assign_2/value' type=Const>,\n",
       " <tf.Operation 'Assign_2' type=Assign>,\n",
       " <tf.Operation 'init_1' type=NoOp>,\n",
       " <tf.Operation 'Const' type=Const>,\n",
       " <tf.Operation 'Const_1' type=Const>,\n",
       " <tf.Operation 'MatMul' type=MatMul>,\n",
       " <tf.Operation 'init_2' type=NoOp>,\n",
       " <tf.Operation 'data1' type=Const>,\n",
       " <tf.Operation 'data2' type=Const>,\n",
       " <tf.Operation 'data3' type=Const>,\n",
       " <tf.Operation 'mul' type=Mul>,\n",
       " <tf.Operation 'truediv' type=RealDiv>,\n",
       " <tf.Operation 'init_3' type=NoOp>]"
      ]
     },
     "execution_count": 12,
     "metadata": {},
     "output_type": "execute_result"
    }
   ],
   "source": [
    "tf.get_default_graph().get_operations()"
   ]
  },
  {
   "cell_type": "code",
   "execution_count": 13,
   "metadata": {},
   "outputs": [
    {
     "name": "stdout",
     "output_type": "stream",
     "text": [
      "[<tf.Tensor 'data1:0' shape=() dtype=float32>]\n"
     ]
    }
   ],
   "source": [
    "print(a.op.outputs)"
   ]
  },
  {
   "cell_type": "code",
   "execution_count": 14,
   "metadata": {},
   "outputs": [
    {
     "name": "stdout",
     "output_type": "stream",
     "text": [
      "True\n"
     ]
    }
   ],
   "source": [
    "print(a is a.op.outputs[0])"
   ]
  },
  {
   "cell_type": "code",
   "execution_count": 15,
   "metadata": {},
   "outputs": [
    {
     "name": "stdout",
     "output_type": "stream",
     "text": [
      "7.0\n"
     ]
    }
   ],
   "source": [
    "print(a.op.node_def.attr['value'].tensor.float_val[0])"
   ]
  },
  {
   "cell_type": "code",
   "execution_count": 16,
   "metadata": {},
   "outputs": [
    {
     "name": "stdout",
     "output_type": "stream",
     "text": [
      "v.op.inputs=  <tensorflow.python.framework.ops.Operation._InputList object at 0x00000210AB158388>\n"
     ]
    }
   ],
   "source": [
    "print(\"v.op.inputs= \",v.op.inputs) #객체의 ID출력"
   ]
  },
  {
   "cell_type": "code",
   "execution_count": 17,
   "metadata": {},
   "outputs": [
    {
     "name": "stdout",
     "output_type": "stream",
     "text": [
      "v.op.outputs=  [<tf.Tensor 'truediv:0' shape=() dtype=float32>]\n"
     ]
    }
   ],
   "source": [
    "print(\"v.op.outputs= \",v.op.outputs)"
   ]
  },
  {
   "cell_type": "code",
   "execution_count": 18,
   "metadata": {},
   "outputs": [
    {
     "name": "stdout",
     "output_type": "stream",
     "text": [
      "name: \"truediv\"\n",
      "op: \"RealDiv\"\n",
      "input: \"mul\"\n",
      "input: \"data3\"\n",
      "attr {\n",
      "  key: \"T\"\n",
      "  value {\n",
      "    type: DT_FLOAT\n",
      "  }\n",
      "}\n",
      "\n"
     ]
    }
   ],
   "source": [
    "print(v.op)"
   ]
  },
  {
   "cell_type": "markdown",
   "metadata": {},
   "source": [
    "```\n",
    "    Rank : 텐서의 차원을 의미 0 - 스칼라/ 1-벡터 /2 -행렬 / 3이상 - n-\n",
    "    shape : 텐서가 몇개의 행과 열을 가지는지 의미\n",
    "    type : 텐서가 담을 수 있는 데이터 타입 의미\n",
    "    \n",
    "    \n",
    "   *텐서플로우 자료형\n",
    "   tf.constant: 변하지 않는 수를 지정하는 자료형\n",
    "   tf.Placeholder : 먼저 만들고 값을 나중에 지정해주는 자료형\n",
    "   tf.Variable: 조건에 따라 값을 바꿔야하는 경우 사용하는 자료형\n",
    "```"
   ]
  },
  {
   "cell_type": "code",
   "execution_count": 19,
   "metadata": {},
   "outputs": [
    {
     "name": "stdout",
     "output_type": "stream",
     "text": [
      "Tensor(\"Const_2:0\", shape=(), dtype=int32)\n",
      "Tensor(\"Const_3:0\", shape=(), dtype=int32)\n",
      "Tensor(\"Const_4:0\", shape=(), dtype=int32)\n",
      "Tensor(\"Mul_1:0\", shape=(), dtype=int32)\n",
      "Tensor(\"Add:0\", shape=(), dtype=int32)\n",
      "Tensor(\"Sub:0\", shape=(), dtype=int32)\n"
     ]
    }
   ],
   "source": [
    "a = tf.constant(5)\n",
    "b = tf.constant(2)\n",
    "c = tf.constant(3)\n",
    "d = tf.multiply(a,b)\n",
    "e = tf.add(c,b)\n",
    "f = tf.subtract(d,e)\n",
    "print(a)\n",
    "print(b)\n",
    "print(c)\n",
    "print(d)\n",
    "print(e)\n",
    "print(f)"
   ]
  },
  {
   "cell_type": "code",
   "execution_count": 20,
   "metadata": {},
   "outputs": [
    {
     "name": "stdout",
     "output_type": "stream",
     "text": [
      "outs=  5\n"
     ]
    }
   ],
   "source": [
    "sess = tf.Session()\n",
    "sess.run(tf.global_variables_initializer())\n",
    "outs = sess.run(f)\n",
    "sess.close()\n",
    "print(\"outs= \", outs)"
   ]
  },
  {
   "cell_type": "code",
   "execution_count": 21,
   "metadata": {},
   "outputs": [
    {
     "name": "stdout",
     "output_type": "stream",
     "text": [
      "b'Hello, Tensorflow!'\n"
     ]
    }
   ],
   "source": [
    "hello = tf.constant(\"Hello, Tensorflow!\")\n",
    "sess = tf.Session()\n",
    "sess.run(tf.global_variables_initializer())\n",
    "print(sess.run(hello))\n",
    "sess.close()"
   ]
  },
  {
   "cell_type": "markdown",
   "metadata": {},
   "source": [
    "### placeholder"
   ]
  },
  {
   "cell_type": "code",
   "execution_count": 22,
   "metadata": {},
   "outputs": [
    {
     "name": "stdout",
     "output_type": "stream",
     "text": [
      "67.0\n"
     ]
    }
   ],
   "source": [
    "p_holder1 = tf.placeholder(dtype=tf.float32)\n",
    "p_holder2 = tf.placeholder(dtype=tf.float32)\n",
    "p_holder3 = tf.placeholder(dtype=tf.float32)\n",
    "var1 = 5\n",
    "var2 = 10\n",
    "var3 = 3\n",
    "\n",
    "ret_val = p_holder1 * p_holder2 + p_holder3\n",
    "\n",
    "feed_dict1 = {p_holder1:30,p_holder2:2,p_holder3:7}\n",
    "sess = tf.Session()\n",
    "sess.run(tf.global_variables_initializer())\n",
    "result = sess.run(ret_val, feed_dict=feed_dict1)\n",
    "sess.close()\n",
    "\n",
    "print(result)"
   ]
  },
  {
   "cell_type": "code",
   "execution_count": 23,
   "metadata": {},
   "outputs": [
    {
     "name": "stdout",
     "output_type": "stream",
     "text": [
      "[[30. 30.]\n",
      " [70. 70.]]\n"
     ]
    }
   ],
   "source": [
    "I = tf.placeholder(tf.float32,[2,4])\n",
    "i =[[1,2,3,4],[5,6,7,8]]\n",
    "\n",
    "W = tf.placeholder(tf.float32,[4,2])\n",
    "w = [[1,1],[2,2],[3,3],[4,4]]\n",
    "\n",
    "#Input데이터와 Wegiht를 행렬곱 수행\n",
    "node = tf.matmul(I,W)\n",
    "sess = tf.Session()\n",
    "sess.run(tf.global_variables_initializer())\n",
    "print(sess.run(node,feed_dict={I:i,W:w}))\n",
    "sess.close()"
   ]
  },
  {
   "cell_type": "code",
   "execution_count": 24,
   "metadata": {},
   "outputs": [
    {
     "name": "stdout",
     "output_type": "stream",
     "text": [
      "[[30 30]\n",
      " [70 70]]\n"
     ]
    }
   ],
   "source": [
    "a= tf.Variable([[1,2,3,4],[5,6,7,8]], tf.float32)\n",
    "b = tf.Variable([[1,1],[2,2],[3,3],[4,4]], tf.float32)\n",
    "\n",
    "node = tf.matmul(a,b)\n",
    "sess = tf.Session()\n",
    "sess.run(tf.global_variables_initializer())\n",
    "\n",
    "print(sess.run(node))\n",
    "sess.close()"
   ]
  },
  {
   "cell_type": "code",
   "execution_count": 5,
   "metadata": {},
   "outputs": [
    {
     "name": "stdout",
     "output_type": "stream",
     "text": [
      "<tf.Variable 'Variable_2:0' shape=() dtype=int32_ref>\n",
      "7\n"
     ]
    }
   ],
   "source": [
    "x = tf.Variable(2,dtype=tf.int32)\n",
    "print(x)\n",
    "\n",
    "x = tf.assign(x,7)\n",
    "z =tf.global_variables_initializer()\n",
    "\n",
    "sess = tf.Session()\n",
    "sess.run(z)\n",
    "y = sess.run(x)\n",
    "\n",
    "print(y)\n",
    "sess.close()"
   ]
  },
  {
   "cell_type": "markdown",
   "metadata": {},
   "source": [
    "## 경사하강법"
   ]
  },
  {
   "cell_type": "code",
   "execution_count": 34,
   "metadata": {},
   "outputs": [
    {
     "name": "stdout",
     "output_type": "stream",
     "text": [
      "Epoch:0.000000, RMSE= 30.2139, 기울기 a = 7.5235, y절편 b = 80.5984\n",
      "Epoch:100.000000, RMSE= 2.8860, 기울기 a = 2.2299, y절편 b = 79.4181\n",
      "Epoch:200.000000, RMSE= 2.8826, 기울기 a = 2.2601, y절편 b = 79.2379\n",
      "Epoch:300.000000, RMSE= 2.8815, 기울기 a = 2.2773, y절편 b = 79.1353\n",
      "Epoch:400.000000, RMSE= 2.8811, 기울기 a = 2.2871, y절편 b = 79.0770\n",
      "Epoch:500.000000, RMSE= 2.8810, 기울기 a = 2.2927, y절편 b = 79.0438\n",
      "Epoch:600.000000, RMSE= 2.8810, 기울기 a = 2.2958, y절편 b = 79.0249\n",
      "Epoch:700.000000, RMSE= 2.8810, 기울기 a = 2.2976, y절편 b = 79.0142\n",
      "Epoch:800.000000, RMSE= 2.8810, 기울기 a = 2.2987, y절편 b = 79.0081\n",
      "Epoch:900.000000, RMSE= 2.8810, 기울기 a = 2.2992, y절편 b = 79.0046\n",
      "Epoch:1000.000000, RMSE= 2.8810, 기울기 a = 2.2996, y절편 b = 79.0026\n",
      "Epoch:1100.000000, RMSE= 2.8810, 기울기 a = 2.2998, y절편 b = 79.0015\n",
      "Epoch:1200.000000, RMSE= 2.8810, 기울기 a = 2.2999, y절편 b = 79.0008\n",
      "Epoch:1300.000000, RMSE= 2.8810, 기울기 a = 2.2999, y절편 b = 79.0005\n",
      "Epoch:1400.000000, RMSE= 2.8810, 기울기 a = 2.3000, y절편 b = 79.0003\n",
      "Epoch:1500.000000, RMSE= 2.8810, 기울기 a = 2.3000, y절편 b = 79.0002\n",
      "Epoch:1600.000000, RMSE= 2.8810, 기울기 a = 2.3000, y절편 b = 79.0001\n",
      "Epoch:1700.000000, RMSE= 2.8810, 기울기 a = 2.3000, y절편 b = 79.0001\n",
      "Epoch:1800.000000, RMSE= 2.8810, 기울기 a = 2.3000, y절편 b = 79.0000\n",
      "Epoch:1900.000000, RMSE= 2.8810, 기울기 a = 2.3000, y절편 b = 79.0000\n",
      "Epoch:2000.000000, RMSE= 2.8810, 기울기 a = 2.3000, y절편 b = 79.0000\n"
     ]
    }
   ],
   "source": [
    "#x,y data 값\n",
    "data=[[2,81],[4,93],[6,91],[8,97]]\n",
    "x_data = [x_row[0] for x_row in data]\n",
    "y_data = [y_row[1] for y_row in data]\n",
    "\n",
    "\n",
    "#기울기 a와 b의 값을 임의로 정한다.\n",
    "#단, 기울기의 범위는 0~10사이이며, y절편은 0~100 사이에서 변하게 한며 1개만 만들게 한다.\n",
    "a = tf.Variable(tf.random_uniform([1],0,10,dtype=tf.float64,seed=0))\n",
    "b = tf.Variable(tf.random_uniform([1],0,100,dtype=tf.float64,seed=0))\n",
    "\n",
    "\n",
    "#y에 대한 일차 방정식 ax+b의 식을 세운다.\n",
    "y = a * x_data +b\n",
    "\n",
    "#텐서플로 RMSE 함수 -->오차율\n",
    "rmse = tf.sqrt(tf.reduce_mean(tf.square(y-y_data)))\n",
    "\n",
    "#학습률 값\n",
    "learning_rate = 0.1\n",
    "\n",
    "# RMSE 값을 최소로 하는 값 찾기  --> 경사하강법\n",
    "gradient_decent = tf.train.GradientDescentOptimizer(learning_rate).minimize(rmse)\n",
    "\n",
    "#텐서플로를 이용한 학습\n",
    "with tf.Session() as sess:\n",
    "    # 변수 초기화\n",
    "    sess.run(tf.global_variables_initializer())\n",
    "    #2001번 실행(0번째를 포함하므로)\n",
    "    for step in range(2001):\n",
    "        sess.run(gradient_decent) #경사하강법 그래프 run -->rmse값이 최소화 되는 값을 찾아감\n",
    "        #100번마다 결과 출력\n",
    "        if step % 100 == 0:\n",
    "            print(\"Epoch:%f, RMSE= %.04f, 기울기 a = %.4f, y절편 b = %.4f\" % (step, sess.run(rmse), sess.run(a),sess.run(b)))"
   ]
  },
  {
   "cell_type": "code",
   "execution_count": null,
   "metadata": {},
   "outputs": [],
   "source": []
  },
  {
   "cell_type": "code",
   "execution_count": null,
   "metadata": {},
   "outputs": [],
   "source": []
  }
 ],
 "metadata": {
  "kernelspec": {
   "display_name": "Python 3",
   "language": "python",
   "name": "python3"
  },
  "language_info": {
   "codemirror_mode": {
    "name": "ipython",
    "version": 3
   },
   "file_extension": ".py",
   "mimetype": "text/x-python",
   "name": "python",
   "nbconvert_exporter": "python",
   "pygments_lexer": "ipython3",
   "version": "3.7.7"
  }
 },
 "nbformat": 4,
 "nbformat_minor": 4
}

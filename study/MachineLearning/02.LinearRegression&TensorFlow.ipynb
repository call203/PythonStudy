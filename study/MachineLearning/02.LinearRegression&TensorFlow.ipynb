{
 "cells": [
  {
   "cell_type": "markdown",
   "metadata": {},
   "source": [
    "## 선형회귀"
   ]
  },
  {
   "cell_type": "markdown",
   "metadata": {},
   "source": [
    "`````\n",
    "    최소 제곱법 : y = ax+ b에서 기울기 a를 구하는 방법이다.\n",
    "    \n",
    "    a = (x - x평균)(y-평균)의 합/(x -x평균)^2의 합\n",
    "    b = y의 평균 - (x의 평균 * 기울기 a)\n",
    "`````"
   ]
  },
  {
   "cell_type": "code",
   "execution_count": 38,
   "metadata": {},
   "outputs": [],
   "source": [
    "import numpy as np"
   ]
  },
  {
   "cell_type": "code",
   "execution_count": 7,
   "metadata": {},
   "outputs": [
    {
     "name": "stdout",
     "output_type": "stream",
     "text": [
      "0.176 -0.034\n",
      "15주후:2.606, 22주후:3.838,77주후:13.517999999999999,200주후:35.166\n",
      "\n",
      "\n",
      "예상값:0.8459999999999999, 실제값:0.95 차이:-0.10400000000000009 : \n",
      "\n",
      "\n"
     ]
    }
   ],
   "source": [
    "def top(x, x_avg, y, y_avg):\n",
    "    d = 0\n",
    "    for i in range(len(x)):\n",
    "        d+=(x[i] - x_avg) * (y[i] - y_avg)\n",
    "    return d\n",
    "        \n",
    "\n",
    "x = [1,2,3,4,5,6,7,8]\n",
    "y = [0.2, 0.3, 0.5, 0.6, 0.9, 0.95,1.1,1.5]\n",
    "\n",
    "x_avg = np.mean(x)\n",
    "y_avg = np.mean(y)\n",
    "\n",
    "\n",
    "#분자\n",
    "top_num = top(x,x_avg, y, y_avg)\n",
    "sum_x=[]\n",
    "#분모\n",
    "for i in x:\n",
    "     sum_x = (x - x_avg)**2\n",
    "        \n",
    "        \n",
    "                \n",
    "a = top_num/sum(sum_x)  \n",
    "b = y_avg - (x_avg * a)\n",
    "a = round(a,3)\n",
    "b = round(b,3)\n",
    "print(a,b)\n",
    "\n",
    "\n",
    "#1번\n",
    "y1 = a*15 +b\n",
    "y2 = a*22 +b\n",
    "y3 = a*77 +b\n",
    "y4 = a*200 +b\n",
    "print(\"15주후:{}, 22주후:{},77주후:{},200주후:{}\".format(y1,y2,y3,y4))\n",
    "print(\"\\n\")\n",
    "\n",
    "#2번\n",
    "y5 = y1 = a*5 +b\n",
    "print(\"예상값:{}, 실제값:{} 차이:{} : \".format(y5,y[5],y5-y[5]))\n",
    "print(\"\\n\")\n",
    "\n",
    "#3번\n",
    "\n",
    "\n"
   ]
  },
  {
   "cell_type": "markdown",
   "metadata": {},
   "source": [
    "### 오차 예측"
   ]
  },
  {
   "cell_type": "markdown",
   "metadata": {},
   "source": [
    "```\n",
    "평균 제곱근 오차 : 계산 결과가 가작 작은 선을 찾는 작업\n",
    "\n",
    "즉, 선형회귀란 임의의 직선을 그어 이에 대한 평균 제곱근 오차를 구하고 이 값을 가장 작게 만들어 주는 x와 b값을 찾아가는 과정이다.\n",
    "\n",
    "```"
   ]
  },
  {
   "cell_type": "code",
   "execution_count": 8,
   "metadata": {},
   "outputs": [
    {
     "name": "stdout",
     "output_type": "stream",
     "text": [
      "오차율: 3.317\n"
     ]
    }
   ],
   "source": [
    "# a = 3, b=76으로 가정\n",
    "import math\n",
    "\n",
    "x =[2,4,6,8]\n",
    "y = [81,93,91,97]\n",
    "\n",
    "temp_li=[]\n",
    "\n",
    "temp_li =[3*i + 76  for i in x]\n",
    "\n",
    "temp_li =sum([ (y-p)**2 for y,p in zip(y,temp_li)])\n",
    "print(\"오차율: {}\".format(round(math.sqrt(temp_li/len(y)),3)))\n"
   ]
  },
  {
   "cell_type": "markdown",
   "metadata": {},
   "source": [
    "## 텐서플로우 행렬"
   ]
  },
  {
   "cell_type": "code",
   "execution_count": 8,
   "metadata": {},
   "outputs": [],
   "source": [
    "#version 1\n",
    "import tensorflow as tf"
   ]
  },
  {
   "cell_type": "code",
   "execution_count": 10,
   "metadata": {
    "scrolled": false
   },
   "outputs": [
    {
     "name": "stdout",
     "output_type": "stream",
     "text": [
      "(1, 3)\n",
      "(3, 1)\n",
      "(1, 1)\n",
      "Tensor(\"MatMul:0\", shape=(1, 1), dtype=float32)\n"
     ]
    }
   ],
   "source": [
    "# constant -->상수를 만드는 메소드\n",
    "x = tf.constant([[1.0,2.0,3.0]])\n",
    "w = tf.constant([[2.0],[2.0],[2.0]])\n",
    "\n",
    "# matul --> *\n",
    "y = tf.matmul(x,w)\n",
    "print(x.get_shape())\n",
    "print(w.get_shape())\n",
    "print(y.get_shape())\n",
    "print(y)\n",
    "\n",
    "sess = tf.Session()\n",
    "init = tf.global_variables_initializer()\n",
    "sess.run(init)\n",
    "sess.run(y)\n",
    "result = sess.run(y)"
   ]
  },
  {
   "cell_type": "markdown",
   "metadata": {},
   "source": [
    "```\n",
    "    1.목표 :오차가 가장 작은 점을 찾는것.\n",
    "      미분 비울기를 이용해 오차를 비교하여 가장 작은 방향으로 이동 : '경사 하강법'\n",
    "      \n",
    "    2. 미분의 개념 : x 변화량에 따른 y의 변화량. 즉, 한점에서의 기울기. \n",
    "       \n",
    "     => 순간 기울기가 0인 점이 오차가 가장 작음.  \n",
    "     \n",
    "     주의! learning rate(학습률 : 어느만큼 이동시킬지 정해주는 것)가 크면 한 점으로 모이지 않고 위로 치솟아 버림. \n",
    "```"
   ]
  },
  {
   "cell_type": "markdown",
   "metadata": {},
   "source": [
    "## 텐서플로우 경사 하강법"
   ]
  },
  {
   "cell_type": "markdown",
   "metadata": {},
   "source": [
    "```\n",
    "     텐서플로우는 텐서를 흘려 보내면서 데이터를 처리하는 라이브러리\n",
    "     텐서플로우는 텐서(내부 데이터)를 다차원 어레이로 일반화시킨다.\n",
    "```    "
   ]
  },
  {
   "cell_type": "code",
   "execution_count": 11,
   "metadata": {},
   "outputs": [
    {
     "name": "stdout",
     "output_type": "stream",
     "text": [
      "10.5\n"
     ]
    }
   ],
   "source": [
    "a = tf.constant(7.0, name='data1')\n",
    "b = tf.constant(3.0, name='data2')\n",
    "c = tf.constant(2.0, name='data3')\n",
    "\n",
    "v = a * b/ c\n",
    "\n",
    "with tf.Session() as sess:\n",
    "    sess.run(tf.global_variables_initializer())\n",
    "    print(sess.run(v))"
   ]
  },
  {
   "cell_type": "code",
   "execution_count": 12,
   "metadata": {},
   "outputs": [
    {
     "data": {
      "text/plain": [
       "[<tf.Operation 'Variable/initial_value' type=Const>,\n",
       " <tf.Operation 'Variable' type=VariableV2>,\n",
       " <tf.Operation 'Variable/Assign' type=Assign>,\n",
       " <tf.Operation 'Variable/read' type=Identity>,\n",
       " <tf.Operation 'Assign/value' type=Const>,\n",
       " <tf.Operation 'Assign' type=Assign>,\n",
       " <tf.Operation 'Variable_1/initial_value' type=Const>,\n",
       " <tf.Operation 'Variable_1' type=VariableV2>,\n",
       " <tf.Operation 'Variable_1/Assign' type=Assign>,\n",
       " <tf.Operation 'Variable_1/read' type=Identity>,\n",
       " <tf.Operation 'Assign_1/value' type=Const>,\n",
       " <tf.Operation 'Assign_1' type=Assign>,\n",
       " <tf.Operation 'init' type=NoOp>,\n",
       " <tf.Operation 'Variable_2/initial_value' type=Const>,\n",
       " <tf.Operation 'Variable_2' type=VariableV2>,\n",
       " <tf.Operation 'Variable_2/Assign' type=Assign>,\n",
       " <tf.Operation 'Variable_2/read' type=Identity>,\n",
       " <tf.Operation 'Assign_2/value' type=Const>,\n",
       " <tf.Operation 'Assign_2' type=Assign>,\n",
       " <tf.Operation 'init_1' type=NoOp>,\n",
       " <tf.Operation 'Const' type=Const>,\n",
       " <tf.Operation 'Const_1' type=Const>,\n",
       " <tf.Operation 'MatMul' type=MatMul>,\n",
       " <tf.Operation 'init_2' type=NoOp>,\n",
       " <tf.Operation 'data1' type=Const>,\n",
       " <tf.Operation 'data2' type=Const>,\n",
       " <tf.Operation 'data3' type=Const>,\n",
       " <tf.Operation 'mul' type=Mul>,\n",
       " <tf.Operation 'truediv' type=RealDiv>,\n",
       " <tf.Operation 'init_3' type=NoOp>]"
      ]
     },
     "execution_count": 12,
     "metadata": {},
     "output_type": "execute_result"
    }
   ],
   "source": [
    "tf.get_default_graph().get_operations()"
   ]
  },
  {
   "cell_type": "code",
   "execution_count": 13,
   "metadata": {},
   "outputs": [
    {
     "name": "stdout",
     "output_type": "stream",
     "text": [
      "[<tf.Tensor 'data1:0' shape=() dtype=float32>]\n"
     ]
    }
   ],
   "source": [
    "print(a.op.outputs)"
   ]
  },
  {
   "cell_type": "code",
   "execution_count": 14,
   "metadata": {},
   "outputs": [
    {
     "name": "stdout",
     "output_type": "stream",
     "text": [
      "True\n"
     ]
    }
   ],
   "source": [
    "print(a is a.op.outputs[0])"
   ]
  },
  {
   "cell_type": "code",
   "execution_count": 15,
   "metadata": {},
   "outputs": [
    {
     "name": "stdout",
     "output_type": "stream",
     "text": [
      "7.0\n"
     ]
    }
   ],
   "source": [
    "print(a.op.node_def.attr['value'].tensor.float_val[0])"
   ]
  },
  {
   "cell_type": "code",
   "execution_count": 16,
   "metadata": {},
   "outputs": [
    {
     "name": "stdout",
     "output_type": "stream",
     "text": [
      "v.op.inputs=  <tensorflow.python.framework.ops.Operation._InputList object at 0x00000210AB158388>\n"
     ]
    }
   ],
   "source": [
    "print(\"v.op.inputs= \",v.op.inputs) #객체의 ID출력"
   ]
  },
  {
   "cell_type": "code",
   "execution_count": 17,
   "metadata": {},
   "outputs": [
    {
     "name": "stdout",
     "output_type": "stream",
     "text": [
      "v.op.outputs=  [<tf.Tensor 'truediv:0' shape=() dtype=float32>]\n"
     ]
    }
   ],
   "source": [
    "print(\"v.op.outputs= \",v.op.outputs)"
   ]
  },
  {
   "cell_type": "code",
   "execution_count": 18,
   "metadata": {},
   "outputs": [
    {
     "name": "stdout",
     "output_type": "stream",
     "text": [
      "name: \"truediv\"\n",
      "op: \"RealDiv\"\n",
      "input: \"mul\"\n",
      "input: \"data3\"\n",
      "attr {\n",
      "  key: \"T\"\n",
      "  value {\n",
      "    type: DT_FLOAT\n",
      "  }\n",
      "}\n",
      "\n"
     ]
    }
   ],
   "source": [
    "print(v.op)"
   ]
  },
  {
   "cell_type": "markdown",
   "metadata": {},
   "source": [
    "```\n",
    "    Rank : 텐서의 차원을 의미 0 - 스칼라/ 1-벡터 /2 -행렬 / 3이상 - n-\n",
    "    shape : 텐서가 몇개의 행과 열을 가지는지 의미\n",
    "    type : 텐서가 담을 수 있는 데이터 타입 의미\n",
    "    \n",
    "    \n",
    "   *텐서플로우 자료형\n",
    "   tf.constant: 변하지 않는 수를 지정하는 자료형\n",
    "   tf.Placeholder : 먼저 만들고 값을 나중에 지정해주는 자료형\n",
    "   tf.Variable: 조건에 따라 값을 바꿔야하는 경우 사용하는 자료형\n",
    "```"
   ]
  },
  {
   "cell_type": "code",
   "execution_count": 19,
   "metadata": {},
   "outputs": [
    {
     "name": "stdout",
     "output_type": "stream",
     "text": [
      "Tensor(\"Const_2:0\", shape=(), dtype=int32)\n",
      "Tensor(\"Const_3:0\", shape=(), dtype=int32)\n",
      "Tensor(\"Const_4:0\", shape=(), dtype=int32)\n",
      "Tensor(\"Mul_1:0\", shape=(), dtype=int32)\n",
      "Tensor(\"Add:0\", shape=(), dtype=int32)\n",
      "Tensor(\"Sub:0\", shape=(), dtype=int32)\n"
     ]
    }
   ],
   "source": [
    "a = tf.constant(5)\n",
    "b = tf.constant(2)\n",
    "c = tf.constant(3)\n",
    "d = tf.multiply(a,b)\n",
    "e = tf.add(c,b)\n",
    "f = tf.subtract(d,e)\n",
    "print(a)\n",
    "print(b)\n",
    "print(c)\n",
    "print(d)\n",
    "print(e)\n",
    "print(f)"
   ]
  },
  {
   "cell_type": "code",
   "execution_count": 20,
   "metadata": {},
   "outputs": [
    {
     "name": "stdout",
     "output_type": "stream",
     "text": [
      "outs=  5\n"
     ]
    }
   ],
   "source": [
    "sess = tf.Session()\n",
    "sess.run(tf.global_variables_initializer())\n",
    "outs = sess.run(f)\n",
    "sess.close()\n",
    "print(\"outs= \", outs)"
   ]
  },
  {
   "cell_type": "code",
   "execution_count": 21,
   "metadata": {},
   "outputs": [
    {
     "name": "stdout",
     "output_type": "stream",
     "text": [
      "b'Hello, Tensorflow!'\n"
     ]
    }
   ],
   "source": [
    "hello = tf.constant(\"Hello, Tensorflow!\")\n",
    "sess = tf.Session()\n",
    "sess.run(tf.global_variables_initializer())\n",
    "print(sess.run(hello))\n",
    "sess.close()"
   ]
  },
  {
   "cell_type": "markdown",
   "metadata": {},
   "source": [
    "### placeholder"
   ]
  },
  {
   "cell_type": "code",
   "execution_count": 22,
   "metadata": {},
   "outputs": [
    {
     "name": "stdout",
     "output_type": "stream",
     "text": [
      "67.0\n"
     ]
    }
   ],
   "source": [
    "p_holder1 = tf.placeholder(dtype=tf.float32)\n",
    "p_holder2 = tf.placeholder(dtype=tf.float32)\n",
    "p_holder3 = tf.placeholder(dtype=tf.float32)\n",
    "var1 = 5\n",
    "var2 = 10\n",
    "var3 = 3\n",
    "\n",
    "ret_val = p_holder1 * p_holder2 + p_holder3\n",
    "\n",
    "feed_dict1 = {p_holder1:30,p_holder2:2,p_holder3:7}\n",
    "sess = tf.Session()\n",
    "sess.run(tf.global_variables_initializer())\n",
    "result = sess.run(ret_val, feed_dict=feed_dict1)\n",
    "sess.close()\n",
    "\n",
    "print(result)"
   ]
  },
  {
   "cell_type": "code",
   "execution_count": 23,
   "metadata": {},
   "outputs": [
    {
     "name": "stdout",
     "output_type": "stream",
     "text": [
      "[[30. 30.]\n",
      " [70. 70.]]\n"
     ]
    }
   ],
   "source": [
    "I = tf.placeholder(tf.float32,[2,4])\n",
    "i =[[1,2,3,4],[5,6,7,8]]\n",
    "\n",
    "W = tf.placeholder(tf.float32,[4,2])\n",
    "w = [[1,1],[2,2],[3,3],[4,4]]\n",
    "\n",
    "#Input데이터와 Wegiht를 행렬곱 수행\n",
    "node = tf.matmul(I,W)\n",
    "sess = tf.Session()\n",
    "sess.run(tf.global_variables_initializer())\n",
    "print(sess.run(node,feed_dict={I:i,W:w}))\n",
    "sess.close()"
   ]
  },
  {
   "cell_type": "code",
   "execution_count": 24,
   "metadata": {},
   "outputs": [
    {
     "name": "stdout",
     "output_type": "stream",
     "text": [
      "[[30 30]\n",
      " [70 70]]\n"
     ]
    }
   ],
   "source": [
    "a= tf.Variable([[1,2,3,4],[5,6,7,8]], tf.float32)\n",
    "b = tf.Variable([[1,1],[2,2],[3,3],[4,4]], tf.float32)\n",
    "\n",
    "node = tf.matmul(a,b)\n",
    "sess = tf.Session()\n",
    "sess.run(tf.global_variables_initializer())\n",
    "\n",
    "print(sess.run(node))\n",
    "sess.close()"
   ]
  },
  {
   "cell_type": "code",
   "execution_count": 5,
   "metadata": {},
   "outputs": [
    {
     "name": "stdout",
     "output_type": "stream",
     "text": [
      "<tf.Variable 'Variable_2:0' shape=() dtype=int32_ref>\n",
      "7\n"
     ]
    }
   ],
   "source": [
    "x = tf.Variable(2,dtype=tf.int32)\n",
    "print(x)\n",
    "\n",
    "x = tf.assign(x,7)\n",
    "z =tf.global_variables_initializer()\n",
    "\n",
    "sess = tf.Session()\n",
    "sess.run(z)\n",
    "y = sess.run(x)\n",
    "\n",
    "print(y)\n",
    "sess.close()"
   ]
  },
  {
   "cell_type": "markdown",
   "metadata": {},
   "source": [
    "## 경사하강법"
   ]
  },
  {
   "cell_type": "code",
   "execution_count": 34,
   "metadata": {},
   "outputs": [
    {
     "name": "stdout",
     "output_type": "stream",
     "text": [
      "Epoch:0.000000, RMSE= 30.2139, 기울기 a = 7.5235, y절편 b = 80.5984\n",
      "Epoch:100.000000, RMSE= 2.8860, 기울기 a = 2.2299, y절편 b = 79.4181\n",
      "Epoch:200.000000, RMSE= 2.8826, 기울기 a = 2.2601, y절편 b = 79.2379\n",
      "Epoch:300.000000, RMSE= 2.8815, 기울기 a = 2.2773, y절편 b = 79.1353\n",
      "Epoch:400.000000, RMSE= 2.8811, 기울기 a = 2.2871, y절편 b = 79.0770\n",
      "Epoch:500.000000, RMSE= 2.8810, 기울기 a = 2.2927, y절편 b = 79.0438\n",
      "Epoch:600.000000, RMSE= 2.8810, 기울기 a = 2.2958, y절편 b = 79.0249\n",
      "Epoch:700.000000, RMSE= 2.8810, 기울기 a = 2.2976, y절편 b = 79.0142\n",
      "Epoch:800.000000, RMSE= 2.8810, 기울기 a = 2.2987, y절편 b = 79.0081\n",
      "Epoch:900.000000, RMSE= 2.8810, 기울기 a = 2.2992, y절편 b = 79.0046\n",
      "Epoch:1000.000000, RMSE= 2.8810, 기울기 a = 2.2996, y절편 b = 79.0026\n",
      "Epoch:1100.000000, RMSE= 2.8810, 기울기 a = 2.2998, y절편 b = 79.0015\n",
      "Epoch:1200.000000, RMSE= 2.8810, 기울기 a = 2.2999, y절편 b = 79.0008\n",
      "Epoch:1300.000000, RMSE= 2.8810, 기울기 a = 2.2999, y절편 b = 79.0005\n",
      "Epoch:1400.000000, RMSE= 2.8810, 기울기 a = 2.3000, y절편 b = 79.0003\n",
      "Epoch:1500.000000, RMSE= 2.8810, 기울기 a = 2.3000, y절편 b = 79.0002\n",
      "Epoch:1600.000000, RMSE= 2.8810, 기울기 a = 2.3000, y절편 b = 79.0001\n",
      "Epoch:1700.000000, RMSE= 2.8810, 기울기 a = 2.3000, y절편 b = 79.0001\n",
      "Epoch:1800.000000, RMSE= 2.8810, 기울기 a = 2.3000, y절편 b = 79.0000\n",
      "Epoch:1900.000000, RMSE= 2.8810, 기울기 a = 2.3000, y절편 b = 79.0000\n",
      "Epoch:2000.000000, RMSE= 2.8810, 기울기 a = 2.3000, y절편 b = 79.0000\n"
     ]
    }
   ],
   "source": [
    "#x,y data 값\n",
    "data=[[2,81],[4,93],[6,91],[8,97]]\n",
    "x_data = [x_row[0] for x_row in data]\n",
    "y_data = [y_row[1] for y_row in data]\n",
    "\n",
    "\n",
    "#기울기 a와 b의 값을 임의로 정한다.\n",
    "#단, 기울기의 범위는 0~10사이이며, y절편은 0~100 사이에서 변하게 한며 1개만 만들게 한다.\n",
    "a = tf.Variable(tf.random_uniform([1],0,10,dtype=tf.float64,seed=0))\n",
    "b = tf.Variable(tf.random_uniform([1],0,100,dtype=tf.float64,seed=0))\n",
    "\n",
    "\n",
    "#y에 대한 일차 방정식 ax+b의 식을 세운다.\n",
    "y = a * x_data +b\n",
    "\n",
    "#텐서플로 RMSE 함수 -->오차율\n",
    "rmse = tf.sqrt(tf.reduce_mean(tf.square(y-y_data)))\n",
    "\n",
    "#학습률 값\n",
    "learning_rate = 0.1\n",
    "\n",
    "# RMSE 값을 최소로 하는 값 찾기  --> 경사하강법\n",
    "gradient_decent = tf.train.GradientDescentOptimizer(learning_rate).minimize(rmse)\n",
    "\n",
    "#텐서플로를 이용한 학습\n",
    "with tf.Session() as sess:\n",
    "    # 변수 초기화\n",
    "    sess.run(tf.global_variables_initializer())\n",
    "    #2001번 실행(0번째를 포함하므로)\n",
    "    for step in range(2001):\n",
    "        sess.run(gradient_decent) #경사하강법 그래프 run -->rmse값이 최소화 되는 값을 찾아감\n",
    "        #100번마다 결과 출력\n",
    "        if step % 100 == 0:\n",
    "            print(\"Epoch:%f, RMSE= %.04f, 기울기 a = %.4f, y절편 b = %.4f\" % (step, sess.run(rmse), sess.run(a),sess.run(b)))\n",
    "\n"
   ]
  },
  {
   "cell_type": "markdown",
   "metadata": {},
   "source": [
    "## 다중선형회귀"
   ]
  },
  {
   "cell_type": "code",
   "execution_count": 36,
   "metadata": {},
   "outputs": [
    {
     "name": "stdout",
     "output_type": "stream",
     "text": [
      "Epoch:0.000000, RMSE= 49.1842, 기울기 a = 7.5270 a2=7.8160, y절편 b = 80.5980\n",
      "차이:[14.65205187 48.9701668  50.392196   67.26226807]\n",
      "Epoch:100.000000, RMSE= 1.8368, 기울기 a = 1.1306 a2=2.1316, y절편 b = 78.5119\n",
      "차이:[-0.2269946  -1.43929568 -1.44146698 -3.04870317]\n",
      "Epoch:200.000000, RMSE= 1.8370, 기울기 a = 1.1879 a2=2.1487, y절편 b = 78.1057\n",
      "차이:[-0.51855755 -1.54782018 -1.46957903 -2.94508977]\n",
      "Epoch:300.000000, RMSE= 1.8370, 기울기 a = 1.2122 a2=2.1571, y절편 b = 77.9352\n",
      "차이:[-0.64038945 -1.58753774 -1.4773076  -2.89576667]\n",
      "Epoch:400.000000, RMSE= 1.8370, 기울기 a = 1.2226 a2=2.1607, y절편 b = 77.8636\n",
      "차이:[-0.69131934 -1.60352663 -1.47973209 -2.87393846]\n",
      "Epoch:500.000000, RMSE= 1.8370, 기울기 a = 1.2269 a2=2.1622, y절편 b = 77.8335\n",
      "차이:[-0.7126708  -1.61012108 -1.4806057  -2.86457316]\n",
      "Epoch:600.000000, RMSE= 1.8370, 기울기 a = 1.2288 a2=2.1628, y절편 b = 77.8208\n",
      "차이:[-0.72163282 -1.61286982 -1.48094714 -2.86060431]\n",
      "Epoch:700.000000, RMSE= 1.8370, 기울기 a = 1.2295 a2=2.1631, y절편 b = 77.8155\n",
      "차이:[-0.72539643 -1.61402077 -1.48108607 -2.85893089]\n",
      "Epoch:800.000000, RMSE= 1.8370, 기울기 a = 1.2299 a2=2.1632, y절편 b = 77.8133\n",
      "차이:[-0.7269773  -1.61450361 -1.48114364 -2.85822681]\n",
      "Epoch:900.000000, RMSE= 1.8370, 기울기 a = 1.2300 a2=2.1632, y절편 b = 77.8124\n",
      "차이:[-0.72764139 -1.61470634 -1.48116768 -2.85793083]\n",
      "Epoch:1000.000000, RMSE= 1.8370, 기울기 a = 1.2301 a2=2.1633, y절편 b = 77.8120\n",
      "차이:[-0.72792036 -1.61479149 -1.48117776 -2.85780646]\n",
      "Epoch:1100.000000, RMSE= 1.8370, 기울기 a = 1.2301 a2=2.1633, y절편 b = 77.8118\n",
      "차이:[-0.72803756 -1.61482725 -1.48118199 -2.8577542 ]\n",
      "Epoch:1200.000000, RMSE= 1.8370, 기울기 a = 1.2301 a2=2.1633, y절편 b = 77.8117\n",
      "차이:[-0.7280868  -1.61484228 -1.48118376 -2.85773225]\n",
      "Epoch:1300.000000, RMSE= 1.8370, 기울기 a = 1.2301 a2=2.1633, y절편 b = 77.8117\n",
      "차이:[-0.72810748 -1.61484859 -1.48118451 -2.85772302]\n",
      "Epoch:1400.000000, RMSE= 1.8370, 기울기 a = 1.2301 a2=2.1633, y절편 b = 77.8117\n",
      "차이:[-0.72811617 -1.61485124 -1.48118482 -2.85771915]\n",
      "Epoch:1500.000000, RMSE= 1.8370, 기울기 a = 1.2301 a2=2.1633, y절편 b = 77.8117\n",
      "차이:[-0.72811982 -1.61485235 -1.48118496 -2.85771752]\n",
      "Epoch:1600.000000, RMSE= 1.8370, 기울기 a = 1.2301 a2=2.1633, y절편 b = 77.8117\n",
      "차이:[-0.72812136 -1.61485282 -1.48118501 -2.85771684]\n",
      "Epoch:1700.000000, RMSE= 1.8370, 기울기 a = 1.2301 a2=2.1633, y절편 b = 77.8117\n",
      "차이:[-0.728122   -1.61485302 -1.48118503 -2.85771655]\n",
      "Epoch:1800.000000, RMSE= 1.8370, 기울기 a = 1.2301 a2=2.1633, y절편 b = 77.8117\n",
      "차이:[-0.72812227 -1.6148531  -1.48118504 -2.85771643]\n",
      "Epoch:1900.000000, RMSE= 1.8370, 기울기 a = 1.2301 a2=2.1633, y절편 b = 77.8117\n",
      "차이:[-0.72812239 -1.61485314 -1.48118505 -2.85771638]\n",
      "Epoch:2000.000000, RMSE= 1.8370, 기울기 a = 1.2301 a2=2.1633, y절편 b = 77.8117\n",
      "차이:[-0.72812243 -1.61485315 -1.48118505 -2.85771636]\n"
     ]
    }
   ],
   "source": [
    "data=[[2,0,81],[4,4,93],[6,2,91],[8,3,97]]\n",
    "x1 = [x_row1[0] for x_row1 in data]\n",
    "x2 = [x_row2[1] for x_row2 in data]\n",
    "y_data = [y_row[2] for y_row in data]\n",
    "\n",
    "\n",
    "a = tf.Variable(tf.random_uniform([1],0,10,dtype=tf.float64,seed=0))\n",
    "a2 = tf.Variable(tf.random_uniform([1],0,10,dtype=tf.float64,seed=0))\n",
    "b = tf.Variable(tf.random_uniform([1],0,100,dtype=tf.float64,seed=0))\n",
    "\n",
    "\n",
    "y = a * x1 + a2*x2 +b\n",
    "\n",
    "rmse = tf.sqrt(tf.reduce_mean(tf.square(y-y_data)))\n",
    "\n",
    "learning_rate = 0.1\n",
    "\n",
    "gradient_decent = tf.train.GradientDescentOptimizer(learning_rate).minimize(rmse)\n",
    "\n",
    "\n",
    "with tf.Session() as sess:\n",
    "  \n",
    "    sess.run(tf.global_variables_initializer())\n",
    "    \n",
    "    for step in range(2001):\n",
    "        sess.run(gradient_decent)\n",
    " \n",
    "        if step % 100 == 0:\n",
    "            print(\"Epoch:%f, RMSE= %.04f, 기울기 a = %.4f a2=%.4f, y절편 b = %.4f\" % (step, sess.run(rmse), sess.run(a), sess.run(a2),sess.run(b)))\n",
    "            print(\"차이:{}\".format(sess.run(y)-y_data))"
   ]
  },
  {
   "cell_type": "markdown",
   "metadata": {},
   "source": [
    "### 다중선형 회귀 실습"
   ]
  },
  {
   "cell_type": "code",
   "execution_count": 90,
   "metadata": {
    "collapsed": true
   },
   "outputs": [
    {
     "name": "stdout",
     "output_type": "stream",
     "text": [
      "Epoch:0.000000, RMSE= 643.9146, 기울기 a = 7.9995 a2=8.0295, y절편 b = 80.6891\n",
      "R1:1121.9990700811231,  R2:825.2388189596122,   R3:1018.1862385958079,  R4:881.5351598054348\n",
      "Epoch:100.000000, RMSE= 51.0198, 기울기 a = 1.2999 a2=4.2778, y절편 b = 80.5946\n",
      "R1:386.56544983895304,  R2:261.044381833353,   R3:387.53349316813564,  R4:299.92226726701284\n",
      "Epoch:200.000000, RMSE= 42.6573, 기울기 a = 0.8654 a2=4.3693, y절편 b = 80.5900\n",
      "R1:354.27413208410815,  R2:231.15237336040877,   R3:364.04686725884756,  R4:272.24918891992183\n",
      "Epoch:300.000000, RMSE= 42.1239, 기울기 a = 0.7509 a2=4.5693, y절편 b = 80.5895\n",
      "R1:353.8577444210598,  R2:226.7950854569179,   R3:367.00560090098054,  R4:270.23539681416344\n",
      "Epoch:400.000000, RMSE= 41.8101, 기울기 a = 0.6632 a2=4.7227, y절편 b = 80.5890\n",
      "R1:353.538422264668,  R2:223.4534319386938,   R3:369.2746884468511,  R4:268.69099689997586\n",
      "Epoch:500.000000, RMSE= 41.6278, 기울기 a = 0.5962 a2=4.8396, y절편 b = 80.5887\n",
      "R1:353.29506099304194,  R2:220.90661297653702,   R3:371.0040559786694,  R4:267.51394175535273\n",
      "Epoch:600.000000, RMSE= 41.5226, 기울기 a = 0.5454 a2=4.9284, y절편 b = 80.5883\n",
      "R1:353.1102825227907,  R2:218.9727892926818,   R3:372.31717863416105,  R4:266.6201916221753\n",
      "Epoch:700.000000, RMSE= 41.4623, 기울기 a = 0.5069 a2=4.9956, y절편 b = 80.5880\n",
      "R1:352.97029250908935,  R2:217.50762065411305,   R3:373.3120684022008,  R4:265.94303748797176\n",
      "Epoch:800.000000, RMSE= 41.4277, 기울기 a = 0.4778 a2=5.0465, y절편 b = 80.5878\n",
      "R1:352.8643707085283,  R2:216.39893328470168,   R3:374.0648951369522,  R4:265.43063655156215\n",
      "Epoch:900.000000, RMSE= 41.4080, 기울기 a = 0.4558 a2=5.0850, y절편 b = 80.5875\n",
      "R1:352.7842864998639,  R2:215.56060409809146,   R3:374.63413937617526,  R4:265.04318572996897\n",
      "Epoch:1000.000000, RMSE= 41.3967, 기울기 a = 0.4392 a2=5.1141, y절편 b = 80.5873\n",
      "R1:352.723764505812,  R2:214.9269691425864,   R3:375.06438920062135,  R4:264.75033743740596\n",
      "Epoch:1100.000000, RMSE= 41.3902, 기울기 a = 0.4266 a2=5.1361, y절편 b = 80.5871\n",
      "R1:352.6780391025235,  R2:214.44816212465975,   R3:375.38950553750095,  R4:264.52904521388893\n",
      "Epoch:1200.000000, RMSE= 41.3865, 기울기 a = 0.4171 a2=5.1527, y절편 b = 80.5869\n",
      "R1:352.64349941193814,  R2:214.0863997111717,   R3:375.6351445683365,  R4:264.3618469217694\n",
      "Epoch:1300.000000, RMSE= 41.3844, 기울기 a = 0.4099 a2=5.1652, y절편 b = 80.5867\n",
      "R1:352.6174130461479,  R2:213.8130908664346,   R3:375.8207205886446,  R4:264.23552878232755\n",
      "Epoch:1400.000000, RMSE= 41.3832, 기울기 a = 0.4045 a2=5.1747, y절편 b = 80.5865\n",
      "R1:352.5977139106159,  R2:213.6066164815797,   R3:375.96091371600625,  R4:264.14009919802186\n",
      "Epoch:1500.000000, RMSE= 41.3826, 기울기 a = 0.4004 a2=5.1818, y절편 b = 80.5863\n",
      "R1:352.5828403887605,  R2:213.45063618003007,   R3:376.0668196273864,  R4:264.0680062171074\n",
      "Epoch:1600.000000, RMSE= 41.3822, 기울기 a = 0.3973 a2=5.1873, y절편 b = 80.5861\n",
      "R1:352.57161244841336,  R2:213.3328023907444,   R3:376.14682274761327,  R4:264.01354322318844\n",
      "Epoch:1700.000000, RMSE= 41.3819, 기울기 a = 0.3949 a2=5.1913, y절편 b = 80.5859\n",
      "R1:352.5631385236065,  R2:213.2437859825759,   R3:376.20725787713695,  R4:263.9723986174348\n",
      "Epoch:1800.000000, RMSE= 41.3818, 기울기 a = 0.3932 a2=5.1944, y절편 b = 80.5857\n",
      "R1:352.5567450501409,  R2:213.17653894193836,   R3:376.2529108592305,  R4:263.9413150539377\n",
      "Epoch:1900.000000, RMSE= 41.3817, 기울기 a = 0.3918 a2=5.1968, y절편 b = 80.5856\n",
      "R1:352.5519231835735,  R2:213.12573684290228,   R3:376.2873971619499,  R4:263.91783176884906\n",
      "Epoch:2000.000000, RMSE= 41.3817, 기울기 a = 0.3908 a2=5.1985, y절편 b = 80.5854\n",
      "R1:352.54828852692486,  R2:213.08735744777073,   R3:376.31344802281836,  R4:263.9000898242752\n"
     ]
    }
   ],
   "source": [
    "\n",
    "# 파일 읽기  -> 몸무게, 나이, 혈중 지방 함량이 제공되는 데이터\n",
    "data_set = np.loadtxt(\"./dataset/Blood_fat.csv\",delimiter=\",\")\n",
    "weight = data_set[:,0]\n",
    "age = data_set[:,1]\n",
    "blood = data_set[:,2]\n",
    "\n",
    "a = tf.Variable(tf.random_uniform([1],0,10,dtype=tf.float64,seed=0))\n",
    "a2 = tf.Variable(tf.random_uniform([1],0,10,dtype=tf.float64,seed=0))\n",
    "b = tf.Variable(tf.random_uniform([1],0,100,dtype=tf.float64,seed=0))\n",
    "\n",
    "y = a * weight + a2*age + b\n",
    "\n",
    "\n",
    "rmse = tf.sqrt(tf.reduce_mean(tf.square(y-blood)))\n",
    "\n",
    "learning_rate = 0.001\n",
    "\n",
    "gradient_decent = tf.train.GradientDescentOptimizer(learning_rate).minimize(rmse)\n",
    "\n",
    "\n",
    "with tf.Session() as sess:\n",
    "  \n",
    "    sess.run(tf.global_variables_initializer())\n",
    "    \n",
    "    for step in range(2001):\n",
    "        sess.run(gradient_decent)\n",
    "        z = sess.run(y)\n",
    "        if step % 100 == 0:\n",
    "            print(\"Epoch:%f, RMSE= %.04f, 기울기 a = %.4f a2=%.4f, y절편 b = %.4f\" % (step, sess.run(rmse), sess.run(a), sess.run(a2),sess.run(b)))              \n",
    "            \n",
    "            print(\"R1:{},  R2:{},   R3:{},  R4:{}\".format(z[0],z[1],z[2],z[3]))\n"
   ]
  },
  {
   "cell_type": "code",
   "execution_count": 100,
   "metadata": {},
   "outputs": [],
   "source": [
    "import matplotlib.pyplot as plt\n",
    "from mpl_toolkits.mplot3d import Axes3D"
   ]
  },
  {
   "cell_type": "code",
   "execution_count": 112,
   "metadata": {},
   "outputs": [
    {
     "data": {
      "image/png": "[encoded data removed]",
      "text/plain": [
       "<Figure size 576x576 with 1 Axes>"
      ]
     },
     "metadata": {
      "needs_background": "light"
     },
     "output_type": "display_data"
    }
   ],
   "source": [
    "#graph\n",
    "#figure 생성\n",
    "fig = plt.figure(figsize=(8,8))\n",
    "ax = fig.add_subplot(111,projection='3d')\n",
    "\n",
    "#산점도\n",
    "ax.scatter(weight,age, blood)\n",
    "ax.set_xlabel(\"Weight\")\n",
    "ax.set_ylabel(\"Age\")\n",
    "ax.set_zlabel(\"Blood_Fat\")\n",
    "ax.view_init(15,15)\n",
    "plt.show()\n"
   ]
  }
 ],
 "metadata": {
  "kernelspec": {
   "display_name": "Python 3",
   "language": "python",
   "name": "python3"
  },
  "language_info": {
   "codemirror_mode": {
    "name": "ipython",
    "version": 3
   },
   "file_extension": ".py",
   "mimetype": "text/x-python",
   "name": "python",
   "nbconvert_exporter": "python",
   "pygments_lexer": "ipython3",
   "version": "3.7.7"
  }
 },
 "nbformat": 4,
 "nbformat_minor": 4
}

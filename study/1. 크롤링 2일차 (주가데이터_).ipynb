{
 "cells": [
  {
   "cell_type": "code",
   "execution_count": 1,
   "metadata": {},
   "outputs": [],
   "source": [
    "import requests\n",
    "from bs4 import BeautifulSoup"
   ]
  },
  {
   "cell_type": "code",
   "execution_count": 3,
   "metadata": {},
   "outputs": [
    {
     "data": {
      "text/plain": [
       "<Response [200]>"
      ]
     },
     "execution_count": 3,
     "metadata": {},
     "output_type": "execute_result"
    }
   ],
   "source": [
    "base_url = 'https://finance.naver.com/item/sise.nhn'\n",
    "params = {\n",
    "    'code': '005930'\n",
    "}\n",
    "resp = requests.get(base_url, params=params)\n",
    "resp"
   ]
  },
  {
   "cell_type": "code",
   "execution_count": 9,
   "metadata": {},
   "outputs": [
    {
     "data": {
      "text/plain": [
       "<iframe bottommargin=\"0\" frameborder=\"0\" height=\"360\" marginheight=\"0\" name=\"day\" scrolling=\"no\" src=\"/item/sise_time.nhn?code=005930&amp;thistime=20200731095610\" style=\"margin-top:20px;clear:both\" title=\"주요 시세\" topmargin=\"0\" width=\"100%\"></iframe>"
      ]
     },
     "execution_count": 9,
     "metadata": {},
     "output_type": "execute_result"
    }
   ],
   "source": [
    "soup = BeautifulSoup(resp.text)\n",
    "day_sise = soup.find('iframe', attrs={'name': 'day'})\n",
    "day_sise"
   ]
  },
  {
   "cell_type": "markdown",
   "metadata": {},
   "source": [
    "### 올바른 url"
   ]
  },
  {
   "cell_type": "code",
   "execution_count": 10,
   "metadata": {},
   "outputs": [],
   "source": [
    "base_url = 'https://finance.naver.com/item/sise_day.nhn'\n",
    "params = {\n",
    "    'code': '005930'\n",
    "}\n",
    "resp = requests.get(base_url, params=params)\n",
    "soup = BeautifulSoup(resp.text)\n"
   ]
  },
  {
   "cell_type": "code",
   "execution_count": 13,
   "metadata": {},
   "outputs": [],
   "source": [
    "# soup.select('table.type2 tr')"
   ]
  },
  {
   "cell_type": "code",
   "execution_count": 14,
   "metadata": {},
   "outputs": [
    {
     "data": {
      "text/plain": [
       "16"
      ]
     },
     "execution_count": 14,
     "metadata": {},
     "output_type": "execute_result"
    }
   ],
   "source": [
    "tr_tags = soup.select('table.type2 tr')\n",
    "len(tr_tags)"
   ]
  },
  {
   "cell_type": "code",
   "execution_count": 16,
   "metadata": {},
   "outputs": [
    {
     "name": "stdout",
     "output_type": "stream",
     "text": [
      "['날짜', '종가', '전일비', '시가', '고가', '저가', '거래량']\n"
     ]
    }
   ],
   "source": [
    "result_list = []\n",
    "th_tags = tr_tags[0].find_all('th')\n",
    "\n",
    "title_list = []\n",
    "for th in th_tags:\n",
    "    title_list.append(th.text)\n",
    "print(title_list)\n",
    "    \n",
    "    "
   ]
  },
  {
   "cell_type": "code",
   "execution_count": 22,
   "metadata": {},
   "outputs": [],
   "source": [
    "result_list = []\n",
    "for tr_tag in tr_tags:\n",
    "    td_tags = tr_tag.find_all('td')\n",
    "    if len(td_tags)<7:\n",
    "        continue\n",
    "        \n",
    "    data_list = []\n",
    "    for td in td_tags:\n",
    "        data_list.append(td.text.strip())\n",
    "        \n",
    "    result_list.append(\n",
    "        dict(zip(title_list, data_list))\n",
    "    )\n"
   ]
  },
  {
   "cell_type": "code",
   "execution_count": 1,
   "metadata": {},
   "outputs": [],
   "source": [
    "def get_day_sise(code, page_num):\n",
    "    base_url = 'https://finance.naver.com/item/sise_day.nhn'\n",
    "    \n",
    "    result_list = []\n",
    "    for page in range(1, page_num+1):\n",
    "        params = {\n",
    "            'code': code,\n",
    "            'page': page\n",
    "        }\n",
    "\n",
    "        resp = requests.get(base_url, params=params)\n",
    "        soup = BeautifulSoup(resp.text)\n",
    "        \n",
    "        tr_tags = soup.select('table.type2 tr')\n",
    "        th_tags = tr_tags[0].find_all('th')\n",
    "\n",
    "        title_list = []\n",
    "        for th in th_tags:\n",
    "            title_list.append(th.text)\n",
    "        \n",
    "        \n",
    "        for tr_tag in tr_tags:\n",
    "            data_list = []\n",
    "            td_tags = tr_tag.find_all('td')\n",
    "            if len(td_tags)<7:\n",
    "                continue\n",
    "            for td in td_tags:\n",
    "                data_list.append(td.text.strip())\n",
    "\n",
    "            result_list.append(\n",
    "                dict(zip(title_list, data_list))\n",
    "            )\n",
    "\n",
    "    return result_list"
   ]
  },
  {
   "cell_type": "code",
   "execution_count": 2,
   "metadata": {},
   "outputs": [
    {
     "name": "stdout",
     "output_type": "stream",
     "text": [
      "1\n"
     ]
    },
    {
     "ename": "NameError",
     "evalue": "name 'requests' is not defined",
     "output_type": "error",
     "traceback": [
      "\u001b[1;31m---------------------------------------------------------------------------\u001b[0m",
      "\u001b[1;31mNameError\u001b[0m                                 Traceback (most recent call last)",
      "\u001b[1;32m<ipython-input-2-91223939bdec>\u001b[0m in \u001b[0;36m<module>\u001b[1;34m\u001b[0m\n\u001b[1;32m----> 1\u001b[1;33m \u001b[0mget_day_sise\u001b[0m\u001b[1;33m(\u001b[0m\u001b[1;34m'005930'\u001b[0m\u001b[1;33m,\u001b[0m\u001b[1;36m3\u001b[0m\u001b[1;33m)\u001b[0m\u001b[1;33m\u001b[0m\u001b[1;33m\u001b[0m\u001b[0m\n\u001b[0m",
      "\u001b[1;32m<ipython-input-1-94625d878ada>\u001b[0m in \u001b[0;36mget_day_sise\u001b[1;34m(code, page_num)\u001b[0m\n\u001b[0;32m     10\u001b[0m         }\n\u001b[0;32m     11\u001b[0m \u001b[1;33m\u001b[0m\u001b[0m\n\u001b[1;32m---> 12\u001b[1;33m         \u001b[0mresp\u001b[0m \u001b[1;33m=\u001b[0m \u001b[0mrequests\u001b[0m\u001b[1;33m.\u001b[0m\u001b[0mget\u001b[0m\u001b[1;33m(\u001b[0m\u001b[0mbase_url\u001b[0m\u001b[1;33m,\u001b[0m \u001b[0mparams\u001b[0m\u001b[1;33m=\u001b[0m\u001b[0mparams\u001b[0m\u001b[1;33m)\u001b[0m\u001b[1;33m\u001b[0m\u001b[1;33m\u001b[0m\u001b[0m\n\u001b[0m\u001b[0;32m     13\u001b[0m         \u001b[0msoup\u001b[0m \u001b[1;33m=\u001b[0m \u001b[0mBeautifulSoup\u001b[0m\u001b[1;33m(\u001b[0m\u001b[0mresp\u001b[0m\u001b[1;33m.\u001b[0m\u001b[0mtext\u001b[0m\u001b[1;33m)\u001b[0m\u001b[1;33m\u001b[0m\u001b[1;33m\u001b[0m\u001b[0m\n\u001b[0;32m     14\u001b[0m \u001b[1;33m\u001b[0m\u001b[0m\n",
      "\u001b[1;31mNameError\u001b[0m: name 'requests' is not defined"
     ]
    }
   ],
   "source": [
    "get_day_sise('005930',3)"
   ]
  },
  {
   "cell_type": "code",
   "execution_count": null,
   "metadata": {},
   "outputs": [],
   "source": []
  }
 ],
 "metadata": {
  "kernelspec": {
   "display_name": "Python 3",
   "language": "python",
   "name": "python3"
  },
  "language_info": {
   "codemirror_mode": {
    "name": "ipython",
    "version": 3
   },
   "file_extension": ".py",
   "mimetype": "text/x-python",
   "name": "python",
   "nbconvert_exporter": "python",
   "pygments_lexer": "ipython3",
   "version": "3.7.3"
  }
 },
 "nbformat": 4,
 "nbformat_minor": 4
}
